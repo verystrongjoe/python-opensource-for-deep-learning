{
 "cells": [
  {
   "cell_type": "markdown",
   "metadata": {},
   "source": [
    "# 오늘은 4일차\n",
    "\n",
    "\n",
    "## 3일차 복습\n",
    "\n",
    "PCA를 통해서 차원축소를 하는데 과적합과 과소적합의 중간을 결정\n",
    "\n",
    "train자체는 w,b를 조절하는 최적화를 통해서 train의 score를 optimize하고\n",
    "train과 validation의 차이가 심하면 과적합이고 . \n",
    "모의고사 좀 풀고 수능을 잘한다고 확신한다는 느낌이라고 함 -> 샘플 수를 늘려서 일반화( 샘플수를 늘려서)\n",
    "\n",
    "\n",
    "정확도.\n",
    "learning_curve sample을 tunign해서 과적합 조정 \n",
    "validation_curve로 hyper parameter를 tuning했고 마찬가지로 과적합 조정\n",
    "\n",
    "\n",
    "GridSearch로 \n",
    "\n",
    "\n",
    "Confusion Matrix로 다양한 지표를 통해 모델 검증 Roc Curve로 봄\n",
    "\n",
    "1) 최적화\n",
    "\n",
    "2) 일반화\n"
   ]
  },
  {
   "cell_type": "code",
   "execution_count": 129,
   "metadata": {
    "collapsed": true
   },
   "outputs": [],
   "source": [
    "import numpy as np\n",
    "import pandas as pd\n",
    "from pandas import Series, DataFrame\n"
   ]
  },
  {
   "cell_type": "code",
   "execution_count": 130,
   "metadata": {
    "collapsed": true
   },
   "outputs": [],
   "source": [
    "from sklearn.model_selection import train_test_split\n",
    "from sklearn.preprocessing import StandardScaler\n",
    "\n",
    "%matplotlib inline"
   ]
  },
  {
   "cell_type": "markdown",
   "metadata": {},
   "source": [
    "\n",
    "##  오늘은 4일차\n",
    "\n",
    "### 다층 퍼셉트론"
   ]
  },
  {
   "cell_type": "code",
   "execution_count": 131,
   "metadata": {
    "collapsed": true
   },
   "outputs": [],
   "source": [
    "def 로직게이트생성(w,b)  :\n",
    "    def logic_gate(x1,x2) :\n",
    "        x = np.array([x1,x2])\n",
    "        z = np.sum(w*x) + b\n",
    "        y = 1 if z > 0 else 0\n",
    "        return y\n",
    "    return logic_gate"
   ]
  },
  {
   "cell_type": "code",
   "execution_count": 132,
   "metadata": {
    "collapsed": true
   },
   "outputs": [],
   "source": [
    "def test(logic) :\n",
    "    for x1, x2 in [(0, 0), (0, 1), (1, 0), (1, 1)]:\n",
    "        y = logic(x1, x2)\n",
    "        print(x1, x2, '|', y)"
   ]
  },
  {
   "cell_type": "code",
   "execution_count": 133,
   "metadata": {
    "collapsed": true
   },
   "outputs": [],
   "source": [
    "AND = 로직게이트생성(np.array([0.5, 0.5]), -0.7)"
   ]
  },
  {
   "cell_type": "code",
   "execution_count": 134,
   "metadata": {},
   "outputs": [
    {
     "name": "stdout",
     "output_type": "stream",
     "text": [
      "0 0 | 0\n",
      "0 1 | 0\n",
      "1 0 | 0\n",
      "1 1 | 1\n"
     ]
    }
   ],
   "source": [
    "test(AND)"
   ]
  },
  {
   "cell_type": "code",
   "execution_count": 135,
   "metadata": {
    "collapsed": true
   },
   "outputs": [],
   "source": [
    "NAND = 로직게이트생성(np.array([-0.5, -0.5]), 0.7)"
   ]
  },
  {
   "cell_type": "code",
   "execution_count": 136,
   "metadata": {},
   "outputs": [
    {
     "name": "stdout",
     "output_type": "stream",
     "text": [
      "0 0 | 1\n",
      "0 1 | 1\n",
      "1 0 | 1\n",
      "1 1 | 0\n"
     ]
    }
   ],
   "source": [
    "test(NAND)"
   ]
  },
  {
   "cell_type": "code",
   "execution_count": 137,
   "metadata": {
    "collapsed": true
   },
   "outputs": [],
   "source": [
    "OR = 로직게이트생성(np.array([0.5, 0.5]), -0.2)"
   ]
  },
  {
   "cell_type": "code",
   "execution_count": 138,
   "metadata": {},
   "outputs": [
    {
     "name": "stdout",
     "output_type": "stream",
     "text": [
      "0 0 | 0\n",
      "0 1 | 1\n",
      "1 0 | 1\n",
      "1 1 | 1\n"
     ]
    }
   ],
   "source": [
    "test(OR)"
   ]
  },
  {
   "cell_type": "markdown",
   "metadata": {},
   "source": [
    "다층 퍼셉트론으로 XOR해결하기"
   ]
  },
  {
   "cell_type": "code",
   "execution_count": 139,
   "metadata": {
    "collapsed": true
   },
   "outputs": [],
   "source": [
    "def XOR(x1,x2) :\n",
    "    s1 = NAND(x1,x2)\n",
    "    s2 = OR(x1,x2)\n",
    "    y = AND(s1,s2)\n",
    "    return y"
   ]
  },
  {
   "cell_type": "code",
   "execution_count": 140,
   "metadata": {},
   "outputs": [
    {
     "name": "stdout",
     "output_type": "stream",
     "text": [
      "0 0 | 0\n",
      "0 1 | 1\n",
      "1 0 | 1\n",
      "1 1 | 0\n"
     ]
    }
   ],
   "source": [
    "test(XOR)"
   ]
  },
  {
   "cell_type": "markdown",
   "metadata": {},
   "source": [
    "## 인공 신경망"
   ]
  },
  {
   "cell_type": "code",
   "execution_count": 141,
   "metadata": {
    "collapsed": true
   },
   "outputs": [],
   "source": [
    "def step(x) :\n",
    "    y = np.where(x>0,1,-1)\n",
    "    return y.astype(np.int)"
   ]
  },
  {
   "cell_type": "code",
   "execution_count": 142,
   "metadata": {
    "collapsed": true
   },
   "outputs": [],
   "source": [
    "x = np.arange(-5.,5.,0.1)"
   ]
  },
  {
   "cell_type": "code",
   "execution_count": 143,
   "metadata": {
    "collapsed": true
   },
   "outputs": [],
   "source": [
    "y = step(x)"
   ]
  },
  {
   "cell_type": "code",
   "execution_count": 144,
   "metadata": {},
   "outputs": [
    {
     "data": {
      "text/plain": [
       "array([-1, -1, -1, -1, -1, -1, -1, -1, -1, -1, -1, -1, -1, -1, -1, -1, -1,\n",
       "       -1, -1, -1, -1, -1, -1, -1, -1, -1, -1, -1, -1, -1, -1, -1, -1, -1,\n",
       "       -1, -1, -1, -1, -1, -1, -1, -1, -1, -1, -1, -1, -1, -1, -1, -1, -1,\n",
       "        1,  1,  1,  1,  1,  1,  1,  1,  1,  1,  1,  1,  1,  1,  1,  1,  1,\n",
       "        1,  1,  1,  1,  1,  1,  1,  1,  1,  1,  1,  1,  1,  1,  1,  1,  1,\n",
       "        1,  1,  1,  1,  1,  1,  1,  1,  1,  1,  1,  1,  1,  1,  1])"
      ]
     },
     "execution_count": 144,
     "metadata": {},
     "output_type": "execute_result"
    }
   ],
   "source": [
    "y"
   ]
  },
  {
   "cell_type": "code",
   "execution_count": 145,
   "metadata": {},
   "outputs": [
    {
     "data": {
      "text/plain": [
       "<matplotlib.axes._subplots.AxesSubplot at 0xc488d68>"
      ]
     },
     "execution_count": 145,
     "metadata": {},
     "output_type": "execute_result"
    },
    {
     "data": {
      "image/png": "[encoded data removed]",
      "text/plain": [
       "<matplotlib.figure.Figure at 0xc5addd8>"
      ]
     },
     "metadata": {},
     "output_type": "display_data"
    }
   ],
   "source": [
    "Series(y, index=x).plot()"
   ]
  },
  {
   "cell_type": "code",
   "execution_count": 146,
   "metadata": {
    "collapsed": true
   },
   "outputs": [],
   "source": [
    "def sigmoid(x) :\n",
    "    return 1 / (1+np.exp(-x))"
   ]
  },
  {
   "cell_type": "code",
   "execution_count": 147,
   "metadata": {
    "collapsed": true
   },
   "outputs": [],
   "source": [
    "y = sigmoid(x)"
   ]
  },
  {
   "cell_type": "code",
   "execution_count": 148,
   "metadata": {},
   "outputs": [
    {
     "data": {
      "text/plain": [
       "array([ 0.00669285,  0.00739154,  0.00816257,  0.0090133 ,  0.0099518 ,\n",
       "        0.01098694,  0.01212843,  0.01338692,  0.01477403,  0.0163025 ,\n",
       "        0.01798621,  0.01984031,  0.02188127,  0.02412702,  0.02659699,\n",
       "        0.02931223,  0.03229546,  0.03557119,  0.03916572,  0.04310725,\n",
       "        0.04742587,  0.05215356,  0.05732418,  0.06297336,  0.06913842,\n",
       "        0.07585818,  0.0831727 ,  0.09112296,  0.09975049,  0.10909682,\n",
       "        0.11920292,  0.13010847,  0.14185106,  0.15446527,  0.16798161,\n",
       "        0.18242552,  0.19781611,  0.21416502,  0.23147522,  0.24973989,\n",
       "        0.26894142,  0.2890505 ,  0.31002552,  0.33181223,  0.35434369,\n",
       "        0.37754067,  0.40131234,  0.42555748,  0.450166  ,  0.47502081,\n",
       "        0.5       ,  0.52497919,  0.549834  ,  0.57444252,  0.59868766,\n",
       "        0.62245933,  0.64565631,  0.66818777,  0.68997448,  0.7109495 ,\n",
       "        0.73105858,  0.75026011,  0.76852478,  0.78583498,  0.80218389,\n",
       "        0.81757448,  0.83201839,  0.84553473,  0.85814894,  0.86989153,\n",
       "        0.88079708,  0.89090318,  0.90024951,  0.90887704,  0.9168273 ,\n",
       "        0.92414182,  0.93086158,  0.93702664,  0.94267582,  0.94784644,\n",
       "        0.95257413,  0.95689275,  0.96083428,  0.96442881,  0.96770454,\n",
       "        0.97068777,  0.97340301,  0.97587298,  0.97811873,  0.98015969,\n",
       "        0.98201379,  0.9836975 ,  0.98522597,  0.98661308,  0.98787157,\n",
       "        0.98901306,  0.9900482 ,  0.9909867 ,  0.99183743,  0.99260846])"
      ]
     },
     "execution_count": 148,
     "metadata": {},
     "output_type": "execute_result"
    }
   ],
   "source": [
    "y"
   ]
  },
  {
   "cell_type": "code",
   "execution_count": 149,
   "metadata": {},
   "outputs": [
    {
     "data": {
      "text/plain": [
       "<matplotlib.axes._subplots.AxesSubplot at 0xc632390>"
      ]
     },
     "execution_count": 149,
     "metadata": {},
     "output_type": "execute_result"
    },
    {
     "data": {
      "image/png": "[encoded data removed]",
      "text/plain": [
       "<matplotlib.figure.Figure at 0xc649860>"
      ]
     },
     "metadata": {},
     "output_type": "display_data"
    }
   ],
   "source": [
    "Series(y, index=x).plot()"
   ]
  },
  {
   "cell_type": "code",
   "execution_count": 150,
   "metadata": {
    "collapsed": true
   },
   "outputs": [],
   "source": [
    "def ReLU(x):\n",
    "    return np.maximum(0, x)"
   ]
  },
  {
   "cell_type": "code",
   "execution_count": 151,
   "metadata": {},
   "outputs": [
    {
     "data": {
      "text/plain": [
       "array([ 0. ,  0. ,  0. ,  0. ,  0. ,  0. ,  0. ,  0. ,  0. ,  0. ,  0. ,\n",
       "        0. ,  0. ,  0. ,  0. ,  0. ,  0. ,  0. ,  0. ,  0. ,  0. ,  0. ,\n",
       "        0. ,  0. ,  0. ,  0. ,  0. ,  0. ,  0. ,  0. ,  0. ,  0. ,  0. ,\n",
       "        0. ,  0. ,  0. ,  0. ,  0. ,  0. ,  0. ,  0. ,  0. ,  0. ,  0. ,\n",
       "        0. ,  0. ,  0. ,  0. ,  0. ,  0. ,  0. ,  0.1,  0.2,  0.3,  0.4,\n",
       "        0.5,  0.6,  0.7,  0.8,  0.9,  1. ,  1.1,  1.2,  1.3,  1.4,  1.5,\n",
       "        1.6,  1.7,  1.8,  1.9,  2. ,  2.1,  2.2,  2.3,  2.4,  2.5,  2.6,\n",
       "        2.7,  2.8,  2.9,  3. ,  3.1,  3.2,  3.3,  3.4,  3.5,  3.6,  3.7,\n",
       "        3.8,  3.9,  4. ,  4.1,  4.2,  4.3,  4.4,  4.5,  4.6,  4.7,  4.8,\n",
       "        4.9])"
      ]
     },
     "execution_count": 151,
     "metadata": {},
     "output_type": "execute_result"
    }
   ],
   "source": [
    "y = ReLU(x)\n",
    "y"
   ]
  },
  {
   "cell_type": "code",
   "execution_count": 152,
   "metadata": {},
   "outputs": [
    {
     "data": {
      "text/plain": [
       "<matplotlib.axes._subplots.AxesSubplot at 0xc64fba8>"
      ]
     },
     "execution_count": 152,
     "metadata": {},
     "output_type": "execute_result"
    },
    {
     "data": {
      "image/png": "[encoded data removed]",
      "text/plain": [
       "<matplotlib.figure.Figure at 0xc67d6a0>"
      ]
     },
     "metadata": {},
     "output_type": "display_data"
    }
   ],
   "source": [
    "Series(y, index=x).plot()"
   ]
  },
  {
   "cell_type": "markdown",
   "metadata": {},
   "source": [
    "## 신경망 순전파"
   ]
  },
  {
   "cell_type": "code",
   "execution_count": 153,
   "metadata": {
    "collapsed": true
   },
   "outputs": [],
   "source": [
    "x = np.array([1.0,0.5])"
   ]
  },
  {
   "cell_type": "markdown",
   "metadata": {},
   "source": [
    "# 1층"
   ]
  },
  {
   "cell_type": "code",
   "execution_count": 154,
   "metadata": {
    "collapsed": true
   },
   "outputs": [],
   "source": [
    "W1 = np.array([[0.1,0.3,0.5],[0.2,0.4,0.6]])\n",
    "b1 = np.array([0.1,0.2,0.3])"
   ]
  },
  {
   "cell_type": "code",
   "execution_count": 155,
   "metadata": {
    "collapsed": true
   },
   "outputs": [],
   "source": [
    "z1 = np.dot(x,W1)+b1"
   ]
  },
  {
   "cell_type": "code",
   "execution_count": 156,
   "metadata": {
    "collapsed": true
   },
   "outputs": [],
   "source": [
    "a1 = sigmoid(z1)"
   ]
  },
  {
   "cell_type": "code",
   "execution_count": 157,
   "metadata": {},
   "outputs": [
    {
     "data": {
      "text/plain": [
       "array([ 0.57444252,  0.66818777,  0.75026011])"
      ]
     },
     "execution_count": 157,
     "metadata": {},
     "output_type": "execute_result"
    }
   ],
   "source": [
    "a1"
   ]
  },
  {
   "cell_type": "markdown",
   "metadata": {},
   "source": [
    "## 2층"
   ]
  },
  {
   "cell_type": "code",
   "execution_count": 158,
   "metadata": {
    "collapsed": true
   },
   "outputs": [],
   "source": [
    "W2 = np.array([[0.1,0.4], [0.2,0.5], [0.3,0.6]])\n",
    "b2 = np.array([0.1,0.2])"
   ]
  },
  {
   "cell_type": "code",
   "execution_count": 159,
   "metadata": {
    "collapsed": true
   },
   "outputs": [],
   "source": [
    "z2 = np.dot(a1,W2) + b2"
   ]
  },
  {
   "cell_type": "code",
   "execution_count": 160,
   "metadata": {
    "collapsed": true
   },
   "outputs": [],
   "source": [
    "a2 = sigmoid(z2)"
   ]
  },
  {
   "cell_type": "code",
   "execution_count": 161,
   "metadata": {},
   "outputs": [
    {
     "data": {
      "text/plain": [
       "(2,)"
      ]
     },
     "execution_count": 161,
     "metadata": {},
     "output_type": "execute_result"
    }
   ],
   "source": [
    "z2.shape"
   ]
  },
  {
   "cell_type": "code",
   "execution_count": 162,
   "metadata": {},
   "outputs": [
    {
     "data": {
      "text/plain": [
       "(2,)"
      ]
     },
     "execution_count": 162,
     "metadata": {},
     "output_type": "execute_result"
    }
   ],
   "source": [
    "a2.shape"
   ]
  },
  {
   "cell_type": "markdown",
   "metadata": {
    "collapsed": true
   },
   "source": [
    "## 출력"
   ]
  },
  {
   "cell_type": "code",
   "execution_count": 163,
   "metadata": {
    "collapsed": true
   },
   "outputs": [],
   "source": [
    "W3 = np.array([0.1,0.3])\n",
    "b3 = 0.1"
   ]
  },
  {
   "cell_type": "code",
   "execution_count": 164,
   "metadata": {
    "collapsed": true
   },
   "outputs": [],
   "source": [
    "z3 = np.dot(a2,W3) + b3"
   ]
  },
  {
   "cell_type": "code",
   "execution_count": 165,
   "metadata": {
    "collapsed": true
   },
   "outputs": [],
   "source": [
    "a3 = sigmoid(z3)"
   ]
  },
  {
   "cell_type": "code",
   "execution_count": 166,
   "metadata": {
    "collapsed": true
   },
   "outputs": [],
   "source": [
    "y = a3"
   ]
  },
  {
   "cell_type": "code",
   "execution_count": 167,
   "metadata": {},
   "outputs": [
    {
     "data": {
      "text/plain": [
       "0.59722796177405213"
      ]
     },
     "execution_count": 167,
     "metadata": {},
     "output_type": "execute_result"
    }
   ],
   "source": [
    "y"
   ]
  },
  {
   "cell_type": "markdown",
   "metadata": {},
   "source": [
    "## 여기에서는 분류형으로 사용하였다. (회귀로 접근)"
   ]
  },
  {
   "cell_type": "code",
   "execution_count": 168,
   "metadata": {},
   "outputs": [
    {
     "data": {
      "text/plain": [
       "1"
      ]
     },
     "execution_count": 168,
     "metadata": {},
     "output_type": "execute_result"
    }
   ],
   "source": [
    "1 if y > 0.5 else 0"
   ]
  },
  {
   "cell_type": "markdown",
   "metadata": {},
   "source": [
    "## 손실함수"
   ]
  },
  {
   "cell_type": "code",
   "execution_count": 169,
   "metadata": {
    "collapsed": true
   },
   "outputs": [],
   "source": [
    "def 평균제곱오차(y,y_pred) :\n",
    "    return np.mean((y-y_pred)**2)"
   ]
  },
  {
   "cell_type": "code",
   "execution_count": 170,
   "metadata": {
    "collapsed": true
   },
   "outputs": [],
   "source": [
    "y = np.array([0,0,1,0,0,0,0,0,0,0])"
   ]
  },
  {
   "cell_type": "code",
   "execution_count": 171,
   "metadata": {},
   "outputs": [
    {
     "data": {
      "text/plain": [
       "10"
      ]
     },
     "execution_count": 171,
     "metadata": {},
     "output_type": "execute_result"
    }
   ],
   "source": [
    "len(y)"
   ]
  },
  {
   "cell_type": "code",
   "execution_count": 172,
   "metadata": {
    "collapsed": true
   },
   "outputs": [],
   "source": [
    "y_pred1 = np.array([0.1,0.05,0.6,0.0,0.05,0.1,0.0, 0.1,0.0,0.0])"
   ]
  },
  {
   "cell_type": "code",
   "execution_count": 173,
   "metadata": {},
   "outputs": [
    {
     "data": {
      "text/plain": [
       "10"
      ]
     },
     "execution_count": 173,
     "metadata": {},
     "output_type": "execute_result"
    }
   ],
   "source": [
    "len(y_pred1)"
   ]
  },
  {
   "cell_type": "code",
   "execution_count": 174,
   "metadata": {},
   "outputs": [
    {
     "data": {
      "text/plain": [
       "1.0"
      ]
     },
     "execution_count": 174,
     "metadata": {},
     "output_type": "execute_result"
    }
   ],
   "source": [
    "y_pred1.sum()"
   ]
  },
  {
   "cell_type": "code",
   "execution_count": 175,
   "metadata": {
    "collapsed": true
   },
   "outputs": [],
   "source": [
    "y_pred2 = np.array([\n",
    "    0.1, 0.05, 0.1, 0.0, 0.05,\n",
    "    0.1, 0.0, 0.6, 0.0, 0.0\n",
    "])"
   ]
  },
  {
   "cell_type": "code",
   "execution_count": 176,
   "metadata": {},
   "outputs": [
    {
     "data": {
      "text/plain": [
       "10"
      ]
     },
     "execution_count": 176,
     "metadata": {},
     "output_type": "execute_result"
    }
   ],
   "source": [
    "len(y_pred2)"
   ]
  },
  {
   "cell_type": "code",
   "execution_count": 177,
   "metadata": {},
   "outputs": [
    {
     "data": {
      "text/plain": [
       "1.0"
      ]
     },
     "execution_count": 177,
     "metadata": {},
     "output_type": "execute_result"
    }
   ],
   "source": [
    "y_pred2.sum()"
   ]
  },
  {
   "cell_type": "code",
   "execution_count": 186,
   "metadata": {
    "collapsed": true
   },
   "outputs": [],
   "source": [
    "loss = 평균제곱오차"
   ]
  },
  {
   "cell_type": "code",
   "execution_count": 187,
   "metadata": {},
   "outputs": [
    {
     "data": {
      "text/plain": [
       "0.019500000000000007"
      ]
     },
     "execution_count": 187,
     "metadata": {},
     "output_type": "execute_result"
    }
   ],
   "source": [
    "loss(y, y_pred1)"
   ]
  },
  {
   "cell_type": "code",
   "execution_count": 188,
   "metadata": {},
   "outputs": [
    {
     "data": {
      "text/plain": [
       "0.11950000000000001"
      ]
     },
     "execution_count": 188,
     "metadata": {},
     "output_type": "execute_result"
    }
   ],
   "source": [
    "loss(y, y_pred2)"
   ]
  },
  {
   "cell_type": "code",
   "execution_count": 191,
   "metadata": {
    "collapsed": true
   },
   "outputs": [],
   "source": [
    "def cross_entropy_error(y,y_pred) :\n",
    "    delta = 1e-7\n",
    "    return -np.sum(y*np.log(y_pred+delta))"
   ]
  },
  {
   "cell_type": "code",
   "execution_count": 192,
   "metadata": {
    "collapsed": true
   },
   "outputs": [],
   "source": [
    "loss = cross_entropy_error"
   ]
  },
  {
   "cell_type": "code",
   "execution_count": 193,
   "metadata": {},
   "outputs": [
    {
     "data": {
      "text/plain": [
       "0.51082545709933802"
      ]
     },
     "execution_count": 193,
     "metadata": {},
     "output_type": "execute_result"
    }
   ],
   "source": [
    "loss(y, y_pred1)"
   ]
  },
  {
   "cell_type": "code",
   "execution_count": 194,
   "metadata": {},
   "outputs": [
    {
     "data": {
      "text/plain": [
       "2.3025840929945458"
      ]
     },
     "execution_count": 194,
     "metadata": {},
     "output_type": "execute_result"
    }
   ],
   "source": [
    "loss(y, y_pred2)"
   ]
  },
  {
   "cell_type": "code",
   "execution_count": 195,
   "metadata": {
    "collapsed": true
   },
   "outputs": [],
   "source": [
    "import tensorflow as tf"
   ]
  },
  {
   "cell_type": "code",
   "execution_count": 196,
   "metadata": {
    "collapsed": true
   },
   "outputs": [],
   "source": [
    "iris = pd.read_csv('../data/iris.data', header=None)"
   ]
  },
  {
   "cell_type": "code",
   "execution_count": 199,
   "metadata": {
    "collapsed": true
   },
   "outputs": [],
   "source": [
    "y = iris[4]\n",
    "X = iris.iloc[:,0:4]"
   ]
  },
  {
   "cell_type": "code",
   "execution_count": 200,
   "metadata": {},
   "outputs": [],
   "source": [
    "X_train, X_test, y_train, y_test = train_test_split(X,y, test_size=0.3)"
   ]
  },
  {
   "cell_type": "code",
   "execution_count": 201,
   "metadata": {
    "collapsed": true
   },
   "outputs": [],
   "source": [
    "from sklearn.linear_model import LogisticRegression"
   ]
  },
  {
   "cell_type": "code",
   "execution_count": 202,
   "metadata": {
    "collapsed": true
   },
   "outputs": [],
   "source": [
    "model = LogisticRegression()"
   ]
  },
  {
   "cell_type": "code",
   "execution_count": 203,
   "metadata": {},
   "outputs": [
    {
     "data": {
      "text/plain": [
       "LogisticRegression(C=1.0, class_weight=None, dual=False, fit_intercept=True,\n",
       "          intercept_scaling=1, max_iter=100, multi_class='ovr', n_jobs=1,\n",
       "          penalty='l2', random_state=None, solver='liblinear', tol=0.0001,\n",
       "          verbose=0, warm_start=False)"
      ]
     },
     "execution_count": 203,
     "metadata": {},
     "output_type": "execute_result"
    }
   ],
   "source": [
    "model.fit(X_train, y_train)"
   ]
  },
  {
   "cell_type": "code",
   "execution_count": 204,
   "metadata": {},
   "outputs": [
    {
     "data": {
      "text/plain": [
       "array([[ 0.38870874,  1.37549719, -2.08149935, -0.96033949],\n",
       "       [ 0.44214868, -1.61466519,  0.61811179, -1.39711532],\n",
       "       [-1.53026422, -1.08312912,  2.03766881,  2.24974372]])"
      ]
     },
     "execution_count": 204,
     "metadata": {},
     "output_type": "execute_result"
    }
   ],
   "source": [
    "model.coef_"
   ]
  },
  {
   "cell_type": "code",
   "execution_count": 205,
   "metadata": {},
   "outputs": [
    {
     "data": {
      "text/plain": [
       "0.91111111111111109"
      ]
     },
     "execution_count": 205,
     "metadata": {},
     "output_type": "execute_result"
    }
   ],
   "source": [
    "model.score(X_test,y_test)"
   ]
  },
  {
   "cell_type": "code",
   "execution_count": 206,
   "metadata": {
    "collapsed": true
   },
   "outputs": [],
   "source": [
    "import pickle"
   ]
  },
  {
   "cell_type": "code",
   "execution_count": 208,
   "metadata": {},
   "outputs": [],
   "source": [
    "with open('model.pkl', 'wb') as file :\n",
    "    pickle.dump(model,file)\n",
    "    "
   ]
  },
  {
   "cell_type": "code",
   "execution_count": 209,
   "metadata": {
    "collapsed": true
   },
   "outputs": [],
   "source": [
    "del model"
   ]
  },
  {
   "cell_type": "code",
   "execution_count": 210,
   "metadata": {
    "collapsed": true
   },
   "outputs": [],
   "source": [
    "with open('model.pkl','rb') as file :\n",
    "    model = pickle.load(file)\n",
    "    "
   ]
  },
  {
   "cell_type": "code",
   "execution_count": 211,
   "metadata": {},
   "outputs": [
    {
     "data": {
      "text/plain": [
       "0.91111111111111109"
      ]
     },
     "execution_count": 211,
     "metadata": {},
     "output_type": "execute_result"
    }
   ],
   "source": [
    "model.score(X_test,y_test)"
   ]
  },
  {
   "cell_type": "code",
   "execution_count": 212,
   "metadata": {},
   "outputs": [
    {
     "data": {
      "text/plain": [
       "(45, 4)"
      ]
     },
     "execution_count": 212,
     "metadata": {},
     "output_type": "execute_result"
    }
   ],
   "source": [
    "X_test.shape"
   ]
  },
  {
   "cell_type": "code",
   "execution_count": 213,
   "metadata": {},
   "outputs": [
    {
     "data": {
      "text/plain": [
       "0    6.6\n",
       "1    3.0\n",
       "2    4.4\n",
       "3    1.4\n",
       "Name: 75, dtype: float64"
      ]
     },
     "execution_count": 213,
     "metadata": {},
     "output_type": "execute_result"
    }
   ],
   "source": [
    "X_test.iloc[0]"
   ]
  },
  {
   "cell_type": "code",
   "execution_count": 214,
   "metadata": {},
   "outputs": [
    {
     "data": {
      "text/plain": [
       "'c:\\\\python-opensource-for-deep-learning\\\\notebook\\\\predict.py'"
      ]
     },
     "execution_count": 214,
     "metadata": {},
     "output_type": "execute_result"
    }
   ],
   "source": [
    "import predict\n",
    "predict.__file__"
   ]
  },
  {
   "cell_type": "code",
   "execution_count": 215,
   "metadata": {},
   "outputs": [
    {
     "data": {
      "text/plain": [
       "'predict'"
      ]
     },
     "execution_count": 215,
     "metadata": {},
     "output_type": "execute_result"
    }
   ],
   "source": [
    "predict.__name__"
   ]
  },
  {
   "cell_type": "markdown",
   "metadata": {},
   "source": [
    "## Tensorflow"
   ]
  },
  {
   "cell_type": "code",
   "execution_count": 216,
   "metadata": {
    "collapsed": true
   },
   "outputs": [],
   "source": [
    "import tensorflow as tf"
   ]
  },
  {
   "cell_type": "code",
   "execution_count": 217,
   "metadata": {
    "collapsed": true
   },
   "outputs": [],
   "source": [
    "from tensorflow.examples.tutorials.mnist import input_data"
   ]
  },
  {
   "cell_type": "code",
   "execution_count": 218,
   "metadata": {},
   "outputs": [
    {
     "name": "stdout",
     "output_type": "stream",
     "text": [
      "Successfully downloaded train-images-idx3-ubyte.gz 9912422 bytes.\n",
      "Extracting mnist/train-images-idx3-ubyte.gz\n",
      "Successfully downloaded train-labels-idx1-ubyte.gz 28881 bytes.\n",
      "Extracting mnist/train-labels-idx1-ubyte.gz\n",
      "Successfully downloaded t10k-images-idx3-ubyte.gz 1648877 bytes.\n",
      "Extracting mnist/t10k-images-idx3-ubyte.gz\n",
      "Successfully downloaded t10k-labels-idx1-ubyte.gz 4542 bytes.\n",
      "Extracting mnist/t10k-labels-idx1-ubyte.gz\n"
     ]
    }
   ],
   "source": [
    "mnist = input_data.read_data_sets('mnist/',one_hot=True)"
   ]
  },
  {
   "cell_type": "code",
   "execution_count": 289,
   "metadata": {
    "collapsed": true
   },
   "outputs": [],
   "source": [
    "x = mnist.train.images[0]"
   ]
  },
  {
   "cell_type": "code",
   "execution_count": 290,
   "metadata": {},
   "outputs": [
    {
     "data": {
      "text/plain": [
       "numpy.ndarray"
      ]
     },
     "execution_count": 290,
     "metadata": {},
     "output_type": "execute_result"
    }
   ],
   "source": [
    "type(x)"
   ]
  },
  {
   "cell_type": "code",
   "execution_count": 291,
   "metadata": {},
   "outputs": [
    {
     "data": {
      "text/plain": [
       "(784,)"
      ]
     },
     "execution_count": 291,
     "metadata": {},
     "output_type": "execute_result"
    }
   ],
   "source": [
    "x.shape"
   ]
  },
  {
   "cell_type": "code",
   "execution_count": 292,
   "metadata": {
    "collapsed": true
   },
   "outputs": [],
   "source": [
    "x = np.reshape(x, (28,28))"
   ]
  },
  {
   "cell_type": "code",
   "execution_count": 293,
   "metadata": {},
   "outputs": [
    {
     "data": {
      "text/plain": [
       "(28, 28)"
      ]
     },
     "execution_count": 293,
     "metadata": {},
     "output_type": "execute_result"
    }
   ],
   "source": [
    "x.shape"
   ]
  },
  {
   "cell_type": "code",
   "execution_count": 294,
   "metadata": {
    "collapsed": true
   },
   "outputs": [],
   "source": [
    "from scipy.misc import imsave"
   ]
  },
  {
   "cell_type": "code",
   "execution_count": 295,
   "metadata": {
    "collapsed": true
   },
   "outputs": [],
   "source": [
    "imsave('mnist_sample.png',x)"
   ]
  },
  {
   "cell_type": "markdown",
   "metadata": {},
   "source": [
    "신경망 모델 구성"
   ]
  },
  {
   "cell_type": "code",
   "execution_count": 296,
   "metadata": {
    "collapsed": true
   },
   "outputs": [],
   "source": [
    "x = tf.placeholder(tf.float32, [None, 28*28])"
   ]
  },
  {
   "cell_type": "code",
   "execution_count": 297,
   "metadata": {},
   "outputs": [],
   "source": [
    "W = tf.Variable(tf.zeros([28*28, 10]))\n",
    "b = tf.Variable(tf.zeros([10]))"
   ]
  },
  {
   "cell_type": "markdown",
   "metadata": {},
   "source": [
    "# softmax는 다중분류의 출력값을 조정하는데 필수적입니다>"
   ]
  },
  {
   "cell_type": "code",
   "execution_count": 298,
   "metadata": {
    "collapsed": true
   },
   "outputs": [],
   "source": [
    "def softmax(a):\n",
    "    c = np.max(a)\n",
    "    ea = np.exp(a-c)\n",
    "    return ea / np.sum(ea)"
   ]
  },
  {
   "cell_type": "code",
   "execution_count": 299,
   "metadata": {
    "collapsed": true
   },
   "outputs": [],
   "source": [
    "a = np.array([0.3,2.9,4.0])"
   ]
  },
  {
   "cell_type": "code",
   "execution_count": 300,
   "metadata": {},
   "outputs": [
    {
     "data": {
      "text/plain": [
       "7.1999999999999993"
      ]
     },
     "execution_count": 300,
     "metadata": {},
     "output_type": "execute_result"
    }
   ],
   "source": [
    "a.sum()"
   ]
  },
  {
   "cell_type": "code",
   "execution_count": 301,
   "metadata": {},
   "outputs": [],
   "source": [
    "y = softmax(a)"
   ]
  },
  {
   "cell_type": "code",
   "execution_count": 302,
   "metadata": {},
   "outputs": [
    {
     "data": {
      "text/plain": [
       "array([ 0.01821127,  0.24519181,  0.73659691])"
      ]
     },
     "execution_count": 302,
     "metadata": {},
     "output_type": "execute_result"
    }
   ],
   "source": [
    "y"
   ]
  },
  {
   "cell_type": "code",
   "execution_count": 303,
   "metadata": {},
   "outputs": [
    {
     "data": {
      "text/plain": [
       "1.0"
      ]
     },
     "execution_count": 303,
     "metadata": {},
     "output_type": "execute_result"
    }
   ],
   "source": [
    "y.sum()"
   ]
  },
  {
   "cell_type": "code",
   "execution_count": 304,
   "metadata": {
    "collapsed": true
   },
   "outputs": [],
   "source": [
    "# 예측값 y "
   ]
  },
  {
   "cell_type": "code",
   "execution_count": 305,
   "metadata": {
    "collapsed": true
   },
   "outputs": [],
   "source": [
    "y = tf.nn.softmax(tf.matmul(x,W)  + b)"
   ]
  },
  {
   "cell_type": "markdown",
   "metadata": {},
   "source": [
    "정답 y"
   ]
  },
  {
   "cell_type": "code",
   "execution_count": 306,
   "metadata": {
    "collapsed": true
   },
   "outputs": [],
   "source": [
    "y_ = tf.placeholder(tf.float32, [None, 10])"
   ]
  },
  {
   "cell_type": "markdown",
   "metadata": {},
   "source": [
    "손실함수\n"
   ]
  },
  {
   "cell_type": "code",
   "execution_count": 327,
   "metadata": {
    "collapsed": true
   },
   "outputs": [],
   "source": [
    "cross_entropy = tf.reduce_mean(\n",
    "    -tf.reduce_sum(y_ * tf.log(y), reduction_indices=[1]))"
   ]
  },
  {
   "cell_type": "markdown",
   "metadata": {},
   "source": [
    "경사하강법 (Gradient Descent)로 손실함수 최소화"
   ]
  },
  {
   "cell_type": "code",
   "execution_count": 328,
   "metadata": {},
   "outputs": [],
   "source": [
    "train_step = tf.train.GradientDescentOptimizer(0.5).minimize(cross_entropy)"
   ]
  },
  {
   "cell_type": "markdown",
   "metadata": {},
   "source": [
    "계산그래프 실행"
   ]
  },
  {
   "cell_type": "code",
   "execution_count": 329,
   "metadata": {},
   "outputs": [],
   "source": [
    "세션 = tf.InteractiveSession()\n"
   ]
  },
  {
   "cell_type": "code",
   "execution_count": 330,
   "metadata": {
    "collapsed": true
   },
   "outputs": [],
   "source": [
    "\n",
    "tf.global_variables_initializer().run()"
   ]
  },
  {
   "cell_type": "markdown",
   "metadata": {},
   "source": [
    "1000번 실행"
   ]
  },
  {
   "cell_type": "code",
   "execution_count": 331,
   "metadata": {
    "collapsed": true
   },
   "outputs": [],
   "source": [
    "for _ in range(1000):\n",
    "    batch_xs, batch_ys = mnist.train.next_batch(100)\n",
    "    세션.run(train_step, feed_dict={x: batch_xs, y_: batch_ys})"
   ]
  },
  {
   "cell_type": "markdown",
   "metadata": {},
   "source": [
    "모델 평가"
   ]
  },
  {
   "cell_type": "code",
   "execution_count": 332,
   "metadata": {
    "collapsed": true
   },
   "outputs": [],
   "source": [
    "y_pred = tf.equal(tf.argmax(y, 1), tf.argmax(y_, 1))"
   ]
  },
  {
   "cell_type": "code",
   "execution_count": 333,
   "metadata": {},
   "outputs": [],
   "source": [
    "정확도 = tf.reduce_mean(tf.cast(y_pred, tf.float32))"
   ]
  },
  {
   "cell_type": "code",
   "execution_count": 334,
   "metadata": {},
   "outputs": [
    {
     "name": "stdout",
     "output_type": "stream",
     "text": [
      "0.9178\n"
     ]
    }
   ],
   "source": [
    "print(세션.run(\n",
    "    정확도, \n",
    "    feed_dict={x: mnist.test.images, y_: mnist.test.labels}))"
   ]
  },
  {
   "cell_type": "markdown",
   "metadata": {},
   "source": [
    "Keras"
   ]
  },
  {
   "cell_type": "code",
   "execution_count": 336,
   "metadata": {},
   "outputs": [
    {
     "name": "stderr",
     "output_type": "stream",
     "text": [
      "Using TensorFlow backend.\n"
     ]
    }
   ],
   "source": [
    "import keras"
   ]
  },
  {
   "cell_type": "code",
   "execution_count": 337,
   "metadata": {
    "collapsed": true
   },
   "outputs": [],
   "source": [
    "from keras.datasets import mnist"
   ]
  },
  {
   "cell_type": "code",
   "execution_count": 375,
   "metadata": {},
   "outputs": [],
   "source": [
    "(X_train, y_train), (X_test, y_test) = mnist.load_data()"
   ]
  },
  {
   "cell_type": "code",
   "execution_count": 376,
   "metadata": {},
   "outputs": [
    {
     "data": {
      "text/plain": [
       "(60000, 28, 28)"
      ]
     },
     "execution_count": 376,
     "metadata": {},
     "output_type": "execute_result"
    }
   ],
   "source": [
    "X_train.shape"
   ]
  },
  {
   "cell_type": "code",
   "execution_count": 377,
   "metadata": {},
   "outputs": [
    {
     "data": {
      "text/plain": [
       "array([5, 0, 4, 1, 9, 2, 1, 3, 1, 4], dtype=uint8)"
      ]
     },
     "execution_count": 377,
     "metadata": {},
     "output_type": "execute_result"
    }
   ],
   "source": [
    "y_train[:10]"
   ]
  },
  {
   "cell_type": "code",
   "execution_count": 378,
   "metadata": {},
   "outputs": [],
   "source": [
    "X_train = X_train.reshape(60000, 28*28)"
   ]
  },
  {
   "cell_type": "code",
   "execution_count": 379,
   "metadata": {},
   "outputs": [
    {
     "data": {
      "text/plain": [
       "(10000, 28, 28)"
      ]
     },
     "execution_count": 379,
     "metadata": {},
     "output_type": "execute_result"
    }
   ],
   "source": [
    "X_test.shape"
   ]
  },
  {
   "cell_type": "code",
   "execution_count": 380,
   "metadata": {},
   "outputs": [],
   "source": [
    "X_test = X_test.reshape(10000,28*28)"
   ]
  },
  {
   "cell_type": "code",
   "execution_count": 381,
   "metadata": {},
   "outputs": [
    {
     "data": {
      "text/plain": [
       "(10000, 784)"
      ]
     },
     "execution_count": 381,
     "metadata": {},
     "output_type": "execute_result"
    }
   ],
   "source": [
    "X_test.shape"
   ]
  },
  {
   "cell_type": "markdown",
   "metadata": {},
   "source": [
    "자료형이 중요하다고 함\n",
    "\n",
    "모두 float32형태로 바꿔줘야 한다고 한다. 그런데 왜 float64를 안쓸까 공간효율?"
   ]
  },
  {
   "cell_type": "code",
   "execution_count": 382,
   "metadata": {},
   "outputs": [
    {
     "data": {
      "text/plain": [
       "dtype('uint8')"
      ]
     },
     "execution_count": 382,
     "metadata": {},
     "output_type": "execute_result"
    }
   ],
   "source": [
    "X_train.dtype"
   ]
  },
  {
   "cell_type": "code",
   "execution_count": 383,
   "metadata": {
    "collapsed": true
   },
   "outputs": [],
   "source": [
    "X_train = X_train.astype('float64')"
   ]
  },
  {
   "cell_type": "code",
   "execution_count": 384,
   "metadata": {
    "collapsed": true
   },
   "outputs": [],
   "source": [
    "X_test = X_test.astype('float64')"
   ]
  },
  {
   "cell_type": "markdown",
   "metadata": {},
   "source": [
    "데이터 전처리"
   ]
  },
  {
   "cell_type": "code",
   "execution_count": 385,
   "metadata": {},
   "outputs": [
    {
     "data": {
      "text/plain": [
       "array([[ 0.,  0.,  0., ...,  0.,  0.,  0.],\n",
       "       [ 0.,  0.,  0., ...,  0.,  0.,  0.],\n",
       "       [ 0.,  0.,  0., ...,  0.,  0.,  0.],\n",
       "       ..., \n",
       "       [ 0.,  0.,  0., ...,  0.,  0.,  0.],\n",
       "       [ 0.,  0.,  0., ...,  0.,  0.,  0.],\n",
       "       [ 0.,  0.,  0., ...,  0.,  0.,  0.]])"
      ]
     },
     "execution_count": 385,
     "metadata": {},
     "output_type": "execute_result"
    }
   ],
   "source": [
    "X_train"
   ]
  },
  {
   "cell_type": "code",
   "execution_count": 386,
   "metadata": {},
   "outputs": [
    {
     "data": {
      "text/plain": [
       "(255.0, 0.0)"
      ]
     },
     "execution_count": 386,
     "metadata": {},
     "output_type": "execute_result"
    }
   ],
   "source": [
    "( X_train.max() , X_train.min() )"
   ]
  },
  {
   "cell_type": "code",
   "execution_count": 387,
   "metadata": {
    "collapsed": true
   },
   "outputs": [],
   "source": [
    "X_train /= 255\n",
    "X_test /= 255"
   ]
  },
  {
   "cell_type": "code",
   "execution_count": 388,
   "metadata": {},
   "outputs": [
    {
     "data": {
      "text/plain": [
       "array([[ 0.,  0.,  0., ...,  0.,  0.,  0.],\n",
       "       [ 0.,  0.,  0., ...,  0.,  0.,  0.],\n",
       "       [ 0.,  0.,  0., ...,  0.,  0.,  0.],\n",
       "       ..., \n",
       "       [ 0.,  0.,  0., ...,  0.,  0.,  0.],\n",
       "       [ 0.,  0.,  0., ...,  0.,  0.,  0.],\n",
       "       [ 0.,  0.,  0., ...,  0.,  0.,  0.]])"
      ]
     },
     "execution_count": 388,
     "metadata": {},
     "output_type": "execute_result"
    }
   ],
   "source": [
    "X_train"
   ]
  },
  {
   "cell_type": "code",
   "execution_count": 389,
   "metadata": {},
   "outputs": [
    {
     "data": {
      "text/plain": [
       "array([5, 0, 4, 1, 9, 2, 1, 3, 1, 4], dtype=uint8)"
      ]
     },
     "execution_count": 389,
     "metadata": {},
     "output_type": "execute_result"
    }
   ],
   "source": [
    "y_train[:10]"
   ]
  },
  {
   "cell_type": "markdown",
   "metadata": {},
   "source": [
    "One Hot Encoding"
   ]
  },
  {
   "cell_type": "code",
   "execution_count": 390,
   "metadata": {},
   "outputs": [
    {
     "data": {
      "text/plain": [
       "(1.0, 0.0)"
      ]
     },
     "execution_count": 390,
     "metadata": {},
     "output_type": "execute_result"
    }
   ],
   "source": [
    "( X_train.max() , X_train.min() )"
   ]
  },
  {
   "cell_type": "code",
   "execution_count": 391,
   "metadata": {},
   "outputs": [],
   "source": [
    "from keras.utils import np_utils"
   ]
  },
  {
   "cell_type": "code",
   "execution_count": 393,
   "metadata": {},
   "outputs": [
    {
     "data": {
      "text/plain": [
       "array([5, 0, 4, ..., 5, 6, 8], dtype=uint8)"
      ]
     },
     "execution_count": 393,
     "metadata": {},
     "output_type": "execute_result"
    }
   ],
   "source": [
    "y_train"
   ]
  },
  {
   "cell_type": "code",
   "execution_count": 413,
   "metadata": {
    "collapsed": true
   },
   "outputs": [],
   "source": [
    "Y_train = np_utils.to_categorical(y_train)"
   ]
  },
  {
   "cell_type": "code",
   "execution_count": 414,
   "metadata": {},
   "outputs": [],
   "source": [
    "Y_test = np_utils.to_categorical(y_test)"
   ]
  },
  {
   "cell_type": "markdown",
   "metadata": {},
   "source": [
    "모델 만들기"
   ]
  },
  {
   "cell_type": "code",
   "execution_count": 415,
   "metadata": {
    "collapsed": true
   },
   "outputs": [],
   "source": [
    "from keras.models import Sequential"
   ]
  },
  {
   "cell_type": "code",
   "execution_count": 416,
   "metadata": {
    "collapsed": true
   },
   "outputs": [],
   "source": [
    "model = Sequential()"
   ]
  },
  {
   "cell_type": "markdown",
   "metadata": {},
   "source": [
    "층 추가"
   ]
  },
  {
   "cell_type": "code",
   "execution_count": 417,
   "metadata": {
    "collapsed": true
   },
   "outputs": [],
   "source": [
    "from keras.layers.core import Dense, Activation"
   ]
  },
  {
   "cell_type": "code",
   "execution_count": 418,
   "metadata": {},
   "outputs": [],
   "source": [
    "layer1 = Dense(10, input_shape=(28*28,))"
   ]
  },
  {
   "cell_type": "code",
   "execution_count": 419,
   "metadata": {
    "collapsed": true
   },
   "outputs": [],
   "source": [
    "model.add(layer1)"
   ]
  },
  {
   "cell_type": "code",
   "execution_count": 420,
   "metadata": {
    "collapsed": true
   },
   "outputs": [],
   "source": [
    "model.add(Activation('softmax'))"
   ]
  },
  {
   "cell_type": "markdown",
   "metadata": {},
   "source": [
    "모델 컴파일"
   ]
  },
  {
   "cell_type": "code",
   "execution_count": 421,
   "metadata": {},
   "outputs": [],
   "source": [
    "model.compile(loss='categorical_crossentropy', optimizer='sgd', metrics=['accuracy'])"
   ]
  },
  {
   "cell_type": "markdown",
   "metadata": {},
   "source": [
    "훈련"
   ]
  },
  {
   "cell_type": "markdown",
   "metadata": {},
   "source": [
    "딥러닝에선 cross validation을 할 경우는 조심해야 한다. 왜냐하면 트레이닝 시간이 오래 걸리기 때문에 \n",
    "그리고 에폭과 배치사이즈는 [여기](http://www.crowdlab.co.kr/questions/351/%EB%8D%B0%EC%9D%B4%ED%84%B0%EC%85%8B%EC%97%90-%EA%B4%80%EB%A0%A8%EB%90%9C-%ED%95%99%EC%8A%B5%EA%B3%BC%EC%A0%95%EC%9D%98-batch-size%EB%82%98-epoch%EA%B0%99%EC%9D%80-%EC%88%98%EC%B9%98%EC%9D%98-%EC%A1%B0%EC%A0%88%EC%97%90%EB%8C%80%ED%95%9C-%EA%B2%B0%EA%B3%BC%EA%B0%80-%EC%96%B4%EB%96%A0%ED%95%9C%EC%A7%80-%EA%B6%81%EA%B8%88%ED%95%A9%EB%8B%88%EB%8B%A4;jsessionid=15C08782360F21E7516E6E6B842DA832)에서 설명을 잘해놨다. \n",
    "\n",
    "가중치 갱신을 하기전에 batch_size는 실제로 X에 샘플을 몇번을 돌려보고 할것인가\n",
    "그리고 애폭은 전체 데이터를 몇번 돌려봤냐의 카운트\n",
    "\n",
    "즉 max_iter * batch size / whole data count 하면 됨\n",
    "\n",
    "예시\n",
    "=======================\n",
    "참조 : http://fbsight.com/t/epoch-batch/84691/2\n",
    "\n",
    "가진 데이터셋에 총 10,000개의 샘플이 있을 때\n",
    "\n",
    "몇개의 샘플을 가져와서 웨이트를 업데이트 시킬 것인가? = 배치사이즈\n",
    "배치사이즈1일 경우 = SGD\n",
    "- 1만개를 1개씩 쪼갬\n",
    "- 1개 가져와서 포워드 한번 백워드 한번 후 업데이트 (iteration step)\n",
    "- 그다음 하나 가져와서 포워드 한번 백워드 한번 후 업데이트 (iteration step)\n",
    "반복...\n",
    "\n",
    "배치사이즈 10일 경우\n",
    "- 1만개의 데이터셋을 10개씩(배치) 쪼갬\n",
    "- 하나의 배치에는 10개의 데이터가 존재\n",
    "- 하나의 배치 가져와서 포워드 한번 백워드 한번 후 업데이트 (iteration step)\n",
    "- 그다음 배치 가져와서 포워드 한번 백워드 한번 후 업데이트 (iteration step)\n",
    "\n",
    "모든 배치를 다 돈다면?\n",
    "모든 데이터셋에 대해 한번씩 다 돌아본게 됨으로 epoch 1회라고 함\n",
    "\n"
   ]
  },
  {
   "cell_type": "code",
   "execution_count": 422,
   "metadata": {},
   "outputs": [
    {
     "name": "stdout",
     "output_type": "stream",
     "text": [
      "Train on 48000 samples, validate on 12000 samples\n",
      "Epoch 1/200\n",
      "48000/48000 [==============================] - 1s 19us/step - loss: 1.3845 - acc: 0.6726 - val_loss: 0.8966 - val_acc: 0.8253\n",
      "Epoch 2/200\n",
      "48000/48000 [==============================] - 1s 13us/step - loss: 0.7936 - acc: 0.8276 - val_loss: 0.6592 - val_acc: 0.8553\n",
      "Epoch 3/200\n",
      "48000/48000 [==============================] - 1s 13us/step - loss: 0.6443 - acc: 0.8496 - val_loss: 0.5642 - val_acc: 0.8677\n",
      "Epoch 4/200\n",
      "48000/48000 [==============================] - 1s 13us/step - loss: 0.5721 - acc: 0.8607 - val_loss: 0.5116 - val_acc: 0.8772\n",
      "Epoch 5/200\n",
      "48000/48000 [==============================] - 1s 13us/step - loss: 0.5282 - acc: 0.8679 - val_loss: 0.4776 - val_acc: 0.8809\n",
      "Epoch 6/200\n",
      "48000/48000 [==============================] - 1s 13us/step - loss: 0.4980 - acc: 0.8728 - val_loss: 0.4532 - val_acc: 0.8853\n",
      "Epoch 7/200\n",
      "48000/48000 [==============================] - 1s 13us/step - loss: 0.4755 - acc: 0.8769 - val_loss: 0.4351 - val_acc: 0.8892\n",
      "Epoch 8/200\n",
      "48000/48000 [==============================] - 1s 13us/step - loss: 0.4581 - acc: 0.8804 - val_loss: 0.4209 - val_acc: 0.8916\n",
      "Epoch 9/200\n",
      "48000/48000 [==============================] - 1s 13us/step - loss: 0.4441 - acc: 0.8828 - val_loss: 0.4091 - val_acc: 0.8943\n",
      "Epoch 10/200\n",
      "48000/48000 [==============================] - 1s 13us/step - loss: 0.4325 - acc: 0.8848 - val_loss: 0.3995 - val_acc: 0.8964\n",
      "Epoch 11/200\n",
      "48000/48000 [==============================] - 1s 13us/step - loss: 0.4227 - acc: 0.8868 - val_loss: 0.3913 - val_acc: 0.8985\n",
      "Epoch 12/200\n",
      "48000/48000 [==============================] - 1s 13us/step - loss: 0.4142 - acc: 0.8891 - val_loss: 0.3843 - val_acc: 0.8997\n",
      "Epoch 13/200\n",
      "48000/48000 [==============================] - 1s 13us/step - loss: 0.4068 - acc: 0.8906 - val_loss: 0.3781 - val_acc: 0.9011\n",
      "Epoch 14/200\n",
      "48000/48000 [==============================] - 1s 13us/step - loss: 0.4003 - acc: 0.8920 - val_loss: 0.3728 - val_acc: 0.9020\n",
      "Epoch 15/200\n",
      "48000/48000 [==============================] - 1s 13us/step - loss: 0.3945 - acc: 0.8934 - val_loss: 0.3679 - val_acc: 0.9034\n",
      "Epoch 16/200\n",
      "48000/48000 [==============================] - 1s 13us/step - loss: 0.3893 - acc: 0.8941 - val_loss: 0.3636 - val_acc: 0.9038\n",
      "Epoch 17/200\n",
      "48000/48000 [==============================] - 1s 13us/step - loss: 0.3846 - acc: 0.8954 - val_loss: 0.3596 - val_acc: 0.9047\n",
      "Epoch 18/200\n",
      "48000/48000 [==============================] - 1s 13us/step - loss: 0.3803 - acc: 0.8961 - val_loss: 0.3561 - val_acc: 0.9051\n",
      "Epoch 19/200\n",
      "48000/48000 [==============================] - 1s 13us/step - loss: 0.3763 - acc: 0.8968 - val_loss: 0.3528 - val_acc: 0.9055\n",
      "Epoch 20/200\n",
      "48000/48000 [==============================] - 1s 14us/step - loss: 0.3726 - acc: 0.8974 - val_loss: 0.3498 - val_acc: 0.9058\n",
      "Epoch 21/200\n",
      "48000/48000 [==============================] - 1s 13us/step - loss: 0.3693 - acc: 0.8985 - val_loss: 0.3471 - val_acc: 0.9064\n",
      "Epoch 22/200\n",
      "48000/48000 [==============================] - 1s 13us/step - loss: 0.3662 - acc: 0.8990 - val_loss: 0.3444 - val_acc: 0.9067\n",
      "Epoch 23/200\n",
      "48000/48000 [==============================] - 1s 13us/step - loss: 0.3633 - acc: 0.8994 - val_loss: 0.3420 - val_acc: 0.9074\n",
      "Epoch 24/200\n",
      "48000/48000 [==============================] - 1s 13us/step - loss: 0.3605 - acc: 0.9000 - val_loss: 0.3398 - val_acc: 0.9073\n",
      "Epoch 25/200\n",
      "48000/48000 [==============================] - 1s 13us/step - loss: 0.3580 - acc: 0.9008 - val_loss: 0.3376 - val_acc: 0.9083\n",
      "Epoch 26/200\n",
      "48000/48000 [==============================] - 1s 13us/step - loss: 0.3556 - acc: 0.9016 - val_loss: 0.3357 - val_acc: 0.9076\n",
      "Epoch 27/200\n",
      "48000/48000 [==============================] - 1s 13us/step - loss: 0.3533 - acc: 0.9021 - val_loss: 0.3340 - val_acc: 0.9075\n",
      "Epoch 28/200\n",
      "48000/48000 [==============================] - 1s 13us/step - loss: 0.3512 - acc: 0.9022 - val_loss: 0.3321 - val_acc: 0.9093\n",
      "Epoch 29/200\n",
      "48000/48000 [==============================] - 1s 13us/step - loss: 0.3491 - acc: 0.9027 - val_loss: 0.3305 - val_acc: 0.9086\n",
      "Epoch 30/200\n",
      "48000/48000 [==============================] - 1s 13us/step - loss: 0.3472 - acc: 0.9033 - val_loss: 0.3289 - val_acc: 0.9095\n",
      "Epoch 31/200\n",
      "48000/48000 [==============================] - 1s 13us/step - loss: 0.3453 - acc: 0.9039 - val_loss: 0.3274 - val_acc: 0.9098\n",
      "Epoch 32/200\n",
      "48000/48000 [==============================] - 1s 13us/step - loss: 0.3436 - acc: 0.9043 - val_loss: 0.3259 - val_acc: 0.9103\n",
      "Epoch 33/200\n",
      "48000/48000 [==============================] - 1s 13us/step - loss: 0.3419 - acc: 0.9050 - val_loss: 0.3246 - val_acc: 0.9109\n",
      "Epoch 34/200\n",
      "48000/48000 [==============================] - 1s 13us/step - loss: 0.3404 - acc: 0.9053 - val_loss: 0.3232 - val_acc: 0.9117\n",
      "Epoch 35/200\n",
      "48000/48000 [==============================] - 1s 13us/step - loss: 0.3388 - acc: 0.9058 - val_loss: 0.3221 - val_acc: 0.9115\n",
      "Epoch 36/200\n",
      "48000/48000 [==============================] - 1s 13us/step - loss: 0.3374 - acc: 0.9060 - val_loss: 0.3208 - val_acc: 0.9120\n",
      "Epoch 37/200\n",
      "48000/48000 [==============================] - 1s 13us/step - loss: 0.3360 - acc: 0.9065 - val_loss: 0.3197 - val_acc: 0.9121\n",
      "Epoch 38/200\n",
      "48000/48000 [==============================] - 1s 13us/step - loss: 0.3346 - acc: 0.9069 - val_loss: 0.3186 - val_acc: 0.9121\n",
      "Epoch 39/200\n",
      "48000/48000 [==============================] - 1s 14us/step - loss: 0.3333 - acc: 0.9071 - val_loss: 0.3176 - val_acc: 0.9122\n",
      "Epoch 40/200\n",
      "48000/48000 [==============================] - 1s 12us/step - loss: 0.3321 - acc: 0.9079 - val_loss: 0.3166 - val_acc: 0.9127\n",
      "Epoch 41/200\n",
      "48000/48000 [==============================] - 1s 14us/step - loss: 0.3309 - acc: 0.9081 - val_loss: 0.3156 - val_acc: 0.9124\n",
      "Epoch 42/200\n",
      "48000/48000 [==============================] - 1s 13us/step - loss: 0.3297 - acc: 0.9083 - val_loss: 0.3147 - val_acc: 0.9134\n",
      "Epoch 43/200\n",
      "48000/48000 [==============================] - 1s 12us/step - loss: 0.3286 - acc: 0.9086 - val_loss: 0.3139 - val_acc: 0.9136\n",
      "Epoch 44/200\n",
      "48000/48000 [==============================] - 1s 14us/step - loss: 0.3275 - acc: 0.9094 - val_loss: 0.3130 - val_acc: 0.9135\n",
      "Epoch 45/200\n",
      "48000/48000 [==============================] - 1s 12us/step - loss: 0.3265 - acc: 0.9095 - val_loss: 0.3122 - val_acc: 0.9143\n",
      "Epoch 46/200\n",
      "48000/48000 [==============================] - 1s 13us/step - loss: 0.3255 - acc: 0.9097 - val_loss: 0.3112 - val_acc: 0.9143\n",
      "Epoch 47/200\n",
      "48000/48000 [==============================] - 1s 13us/step - loss: 0.3245 - acc: 0.9101 - val_loss: 0.3105 - val_acc: 0.9142\n",
      "Epoch 48/200\n",
      "48000/48000 [==============================] - 1s 13us/step - loss: 0.3235 - acc: 0.9102 - val_loss: 0.3098 - val_acc: 0.9148\n",
      "Epoch 49/200\n",
      "48000/48000 [==============================] - 1s 13us/step - loss: 0.3226 - acc: 0.9105 - val_loss: 0.3090 - val_acc: 0.9145\n",
      "Epoch 50/200\n",
      "48000/48000 [==============================] - 1s 13us/step - loss: 0.3217 - acc: 0.9109 - val_loss: 0.3083 - val_acc: 0.9147\n",
      "Epoch 51/200\n",
      "48000/48000 [==============================] - 1s 13us/step - loss: 0.3208 - acc: 0.9109 - val_loss: 0.3076 - val_acc: 0.9149\n",
      "Epoch 52/200\n",
      "48000/48000 [==============================] - 1s 13us/step - loss: 0.3200 - acc: 0.9114 - val_loss: 0.3072 - val_acc: 0.9147\n",
      "Epoch 53/200\n",
      "48000/48000 [==============================] - 1s 12us/step - loss: 0.3192 - acc: 0.9113 - val_loss: 0.3063 - val_acc: 0.9149\n",
      "Epoch 54/200\n",
      "48000/48000 [==============================] - 1s 13us/step - loss: 0.3184 - acc: 0.9117 - val_loss: 0.3058 - val_acc: 0.9153\n",
      "Epoch 55/200\n",
      "48000/48000 [==============================] - 1s 13us/step - loss: 0.3176 - acc: 0.9121 - val_loss: 0.3052 - val_acc: 0.9151\n",
      "Epoch 56/200\n",
      "48000/48000 [==============================] - 1s 13us/step - loss: 0.3169 - acc: 0.9122 - val_loss: 0.3045 - val_acc: 0.9150\n",
      "Epoch 57/200\n",
      "48000/48000 [==============================] - 1s 13us/step - loss: 0.3161 - acc: 0.9124 - val_loss: 0.3040 - val_acc: 0.9153\n",
      "Epoch 58/200\n",
      "48000/48000 [==============================] - 1s 13us/step - loss: 0.3154 - acc: 0.9125 - val_loss: 0.3035 - val_acc: 0.9153\n",
      "Epoch 59/200\n"
     ]
    },
    {
     "name": "stdout",
     "output_type": "stream",
     "text": [
      "48000/48000 [==============================] - 1s 13us/step - loss: 0.3148 - acc: 0.9128 - val_loss: 0.3028 - val_acc: 0.9157\n",
      "Epoch 60/200\n",
      "48000/48000 [==============================] - 1s 13us/step - loss: 0.3141 - acc: 0.9130 - val_loss: 0.3023 - val_acc: 0.9158\n",
      "Epoch 61/200\n",
      "48000/48000 [==============================] - 1s 13us/step - loss: 0.3134 - acc: 0.9130 - val_loss: 0.3018 - val_acc: 0.9159\n",
      "Epoch 62/200\n",
      "48000/48000 [==============================] - 1s 13us/step - loss: 0.3127 - acc: 0.9133 - val_loss: 0.3013 - val_acc: 0.9160\n",
      "Epoch 63/200\n",
      "48000/48000 [==============================] - 1s 12us/step - loss: 0.3121 - acc: 0.9135 - val_loss: 0.3009 - val_acc: 0.9163\n",
      "Epoch 64/200\n",
      "48000/48000 [==============================] - 1s 13us/step - loss: 0.3115 - acc: 0.9134 - val_loss: 0.3004 - val_acc: 0.9157\n",
      "Epoch 65/200\n",
      "48000/48000 [==============================] - 1s 13us/step - loss: 0.3109 - acc: 0.9137 - val_loss: 0.2999 - val_acc: 0.9163\n",
      "Epoch 66/200\n",
      "48000/48000 [==============================] - 1s 13us/step - loss: 0.3103 - acc: 0.9141 - val_loss: 0.2995 - val_acc: 0.9164\n",
      "Epoch 67/200\n",
      "48000/48000 [==============================] - 1s 12us/step - loss: 0.3097 - acc: 0.9144 - val_loss: 0.2991 - val_acc: 0.9166\n",
      "Epoch 68/200\n",
      "48000/48000 [==============================] - 1s 13us/step - loss: 0.3091 - acc: 0.9142 - val_loss: 0.2986 - val_acc: 0.9162\n",
      "Epoch 69/200\n",
      "48000/48000 [==============================] - 1s 12us/step - loss: 0.3086 - acc: 0.9148 - val_loss: 0.2982 - val_acc: 0.9165\n",
      "Epoch 70/200\n",
      "48000/48000 [==============================] - 1s 13us/step - loss: 0.3080 - acc: 0.9148 - val_loss: 0.2978 - val_acc: 0.9165\n",
      "Epoch 71/200\n",
      "48000/48000 [==============================] - 1s 12us/step - loss: 0.3075 - acc: 0.9149 - val_loss: 0.2973 - val_acc: 0.9170\n",
      "Epoch 72/200\n",
      "48000/48000 [==============================] - 1s 13us/step - loss: 0.3070 - acc: 0.9149 - val_loss: 0.2969 - val_acc: 0.9172\n",
      "Epoch 73/200\n",
      "48000/48000 [==============================] - 1s 12us/step - loss: 0.3065 - acc: 0.9151 - val_loss: 0.2966 - val_acc: 0.9171\n",
      "Epoch 74/200\n",
      "48000/48000 [==============================] - 1s 13us/step - loss: 0.3060 - acc: 0.9151 - val_loss: 0.2962 - val_acc: 0.9170\n",
      "Epoch 75/200\n",
      "48000/48000 [==============================] - 1s 13us/step - loss: 0.3055 - acc: 0.9151 - val_loss: 0.2958 - val_acc: 0.9172\n",
      "Epoch 76/200\n",
      "48000/48000 [==============================] - 1s 12us/step - loss: 0.3050 - acc: 0.9153 - val_loss: 0.2954 - val_acc: 0.9175\n",
      "Epoch 77/200\n",
      "48000/48000 [==============================] - 1s 12us/step - loss: 0.3046 - acc: 0.9155 - val_loss: 0.2950 - val_acc: 0.9177\n",
      "Epoch 78/200\n",
      "48000/48000 [==============================] - 1s 12us/step - loss: 0.3041 - acc: 0.9157 - val_loss: 0.2946 - val_acc: 0.9179\n",
      "Epoch 79/200\n",
      "48000/48000 [==============================] - 1s 13us/step - loss: 0.3036 - acc: 0.9160 - val_loss: 0.2944 - val_acc: 0.9179\n",
      "Epoch 80/200\n",
      "48000/48000 [==============================] - 1s 13us/step - loss: 0.3032 - acc: 0.9160 - val_loss: 0.2940 - val_acc: 0.9180\n",
      "Epoch 81/200\n",
      "48000/48000 [==============================] - 1s 12us/step - loss: 0.3027 - acc: 0.9159 - val_loss: 0.2938 - val_acc: 0.9175\n",
      "Epoch 82/200\n",
      "48000/48000 [==============================] - 1s 13us/step - loss: 0.3023 - acc: 0.9159 - val_loss: 0.2934 - val_acc: 0.9177\n",
      "Epoch 83/200\n",
      "48000/48000 [==============================] - 1s 12us/step - loss: 0.3019 - acc: 0.9164 - val_loss: 0.2930 - val_acc: 0.9184\n",
      "Epoch 84/200\n",
      "48000/48000 [==============================] - 1s 12us/step - loss: 0.3015 - acc: 0.9161 - val_loss: 0.2927 - val_acc: 0.9185\n",
      "Epoch 85/200\n",
      "48000/48000 [==============================] - 1s 13us/step - loss: 0.3011 - acc: 0.9163 - val_loss: 0.2925 - val_acc: 0.9179\n",
      "Epoch 86/200\n",
      "48000/48000 [==============================] - 1s 12us/step - loss: 0.3007 - acc: 0.9162 - val_loss: 0.2922 - val_acc: 0.9177\n",
      "Epoch 87/200\n",
      "48000/48000 [==============================] - 1s 12us/step - loss: 0.3003 - acc: 0.9165 - val_loss: 0.2919 - val_acc: 0.9180\n",
      "Epoch 88/200\n",
      "48000/48000 [==============================] - 1s 13us/step - loss: 0.2999 - acc: 0.9165 - val_loss: 0.2916 - val_acc: 0.9187\n",
      "Epoch 89/200\n",
      "48000/48000 [==============================] - 1s 12us/step - loss: 0.2995 - acc: 0.9167 - val_loss: 0.2913 - val_acc: 0.9185\n",
      "Epoch 90/200\n",
      "48000/48000 [==============================] - 1s 13us/step - loss: 0.2991 - acc: 0.9170 - val_loss: 0.2910 - val_acc: 0.9182\n",
      "Epoch 91/200\n",
      "48000/48000 [==============================] - 1s 13us/step - loss: 0.2988 - acc: 0.9166 - val_loss: 0.2908 - val_acc: 0.9188\n",
      "Epoch 92/200\n",
      "48000/48000 [==============================] - 1s 13us/step - loss: 0.2984 - acc: 0.9168 - val_loss: 0.2906 - val_acc: 0.9185\n",
      "Epoch 93/200\n",
      "48000/48000 [==============================] - 1s 13us/step - loss: 0.2980 - acc: 0.9170 - val_loss: 0.2903 - val_acc: 0.9186\n",
      "Epoch 94/200\n",
      "48000/48000 [==============================] - 1s 12us/step - loss: 0.2977 - acc: 0.9172 - val_loss: 0.2900 - val_acc: 0.9188\n",
      "Epoch 95/200\n",
      "48000/48000 [==============================] - 1s 13us/step - loss: 0.2973 - acc: 0.9174 - val_loss: 0.2898 - val_acc: 0.9187\n",
      "Epoch 96/200\n",
      "48000/48000 [==============================] - 1s 13us/step - loss: 0.2970 - acc: 0.9173 - val_loss: 0.2895 - val_acc: 0.9191\n",
      "Epoch 97/200\n",
      "48000/48000 [==============================] - 1s 13us/step - loss: 0.2967 - acc: 0.9174 - val_loss: 0.2893 - val_acc: 0.9193\n",
      "Epoch 98/200\n",
      "48000/48000 [==============================] - 1s 13us/step - loss: 0.2963 - acc: 0.9175 - val_loss: 0.2891 - val_acc: 0.9192\n",
      "Epoch 99/200\n",
      "48000/48000 [==============================] - 1s 12us/step - loss: 0.2960 - acc: 0.9174 - val_loss: 0.2888 - val_acc: 0.9192\n",
      "Epoch 100/200\n",
      "48000/48000 [==============================] - 1s 13us/step - loss: 0.2957 - acc: 0.9179 - val_loss: 0.2886 - val_acc: 0.9195\n",
      "Epoch 101/200\n",
      "48000/48000 [==============================] - 1s 12us/step - loss: 0.2954 - acc: 0.9180 - val_loss: 0.2884 - val_acc: 0.9192\n",
      "Epoch 102/200\n",
      "48000/48000 [==============================] - 1s 14us/step - loss: 0.2950 - acc: 0.9180 - val_loss: 0.2882 - val_acc: 0.9193\n",
      "Epoch 103/200\n",
      "48000/48000 [==============================] - 1s 13us/step - loss: 0.2947 - acc: 0.9181 - val_loss: 0.2879 - val_acc: 0.9198\n",
      "Epoch 104/200\n",
      "48000/48000 [==============================] - 1s 12us/step - loss: 0.2944 - acc: 0.9180 - val_loss: 0.2878 - val_acc: 0.9196\n",
      "Epoch 105/200\n",
      "48000/48000 [==============================] - 1s 12us/step - loss: 0.2942 - acc: 0.9181 - val_loss: 0.2875 - val_acc: 0.9202\n",
      "Epoch 106/200\n",
      "48000/48000 [==============================] - 1s 13us/step - loss: 0.2938 - acc: 0.9182 - val_loss: 0.2873 - val_acc: 0.9202\n",
      "Epoch 107/200\n",
      "48000/48000 [==============================] - 1s 12us/step - loss: 0.2936 - acc: 0.9182 - val_loss: 0.2870 - val_acc: 0.9197\n",
      "Epoch 108/200\n",
      "48000/48000 [==============================] - 1s 12us/step - loss: 0.2932 - acc: 0.9184 - val_loss: 0.2869 - val_acc: 0.9204\n",
      "Epoch 109/200\n",
      "48000/48000 [==============================] - 1s 13us/step - loss: 0.2930 - acc: 0.9185 - val_loss: 0.2867 - val_acc: 0.9197\n",
      "Epoch 110/200\n",
      "48000/48000 [==============================] - 1s 13us/step - loss: 0.2927 - acc: 0.9187 - val_loss: 0.2865 - val_acc: 0.9203\n",
      "Epoch 111/200\n",
      "48000/48000 [==============================] - 1s 13us/step - loss: 0.2924 - acc: 0.9186 - val_loss: 0.2863 - val_acc: 0.9199\n",
      "Epoch 112/200\n",
      "48000/48000 [==============================] - 1s 13us/step - loss: 0.2921 - acc: 0.9190 - val_loss: 0.2861 - val_acc: 0.9197\n",
      "Epoch 113/200\n",
      "48000/48000 [==============================] - 1s 13us/step - loss: 0.2919 - acc: 0.9190 - val_loss: 0.2859 - val_acc: 0.9207\n",
      "Epoch 114/200\n",
      "48000/48000 [==============================] - 1s 12us/step - loss: 0.2916 - acc: 0.9191 - val_loss: 0.2857 - val_acc: 0.9209\n",
      "Epoch 115/200\n",
      "48000/48000 [==============================] - 1s 12us/step - loss: 0.2913 - acc: 0.9191 - val_loss: 0.2855 - val_acc: 0.9209\n",
      "Epoch 116/200\n",
      "48000/48000 [==============================] - 1s 12us/step - loss: 0.2911 - acc: 0.9190 - val_loss: 0.2853 - val_acc: 0.9203\n",
      "Epoch 117/200\n",
      "48000/48000 [==============================] - 1s 13us/step - loss: 0.2908 - acc: 0.9190 - val_loss: 0.2852 - val_acc: 0.9207\n"
     ]
    },
    {
     "name": "stdout",
     "output_type": "stream",
     "text": [
      "Epoch 118/200\n",
      "48000/48000 [==============================] - 1s 13us/step - loss: 0.2906 - acc: 0.9192 - val_loss: 0.2849 - val_acc: 0.9203\n",
      "Epoch 119/200\n",
      "48000/48000 [==============================] - 1s 13us/step - loss: 0.2903 - acc: 0.9194 - val_loss: 0.2848 - val_acc: 0.9207\n",
      "Epoch 120/200\n",
      "48000/48000 [==============================] - 1s 12us/step - loss: 0.2900 - acc: 0.9193 - val_loss: 0.2846 - val_acc: 0.9207\n",
      "Epoch 121/200\n",
      "48000/48000 [==============================] - 1s 12us/step - loss: 0.2898 - acc: 0.9192 - val_loss: 0.2844 - val_acc: 0.9212\n",
      "Epoch 122/200\n",
      "48000/48000 [==============================] - 1s 13us/step - loss: 0.2896 - acc: 0.9193 - val_loss: 0.2843 - val_acc: 0.9212\n",
      "Epoch 123/200\n",
      "48000/48000 [==============================] - 1s 12us/step - loss: 0.2893 - acc: 0.9197 - val_loss: 0.2842 - val_acc: 0.9212\n",
      "Epoch 124/200\n",
      "48000/48000 [==============================] - 1s 12us/step - loss: 0.2891 - acc: 0.9196 - val_loss: 0.2840 - val_acc: 0.9207\n",
      "Epoch 125/200\n",
      "48000/48000 [==============================] - 1s 13us/step - loss: 0.2888 - acc: 0.9197 - val_loss: 0.2839 - val_acc: 0.9207\n",
      "Epoch 126/200\n",
      "48000/48000 [==============================] - 1s 12us/step - loss: 0.2886 - acc: 0.9198 - val_loss: 0.2836 - val_acc: 0.9208\n",
      "Epoch 127/200\n",
      "48000/48000 [==============================] - 1s 12us/step - loss: 0.2884 - acc: 0.9199 - val_loss: 0.2835 - val_acc: 0.9206\n",
      "Epoch 128/200\n",
      "48000/48000 [==============================] - 1s 12us/step - loss: 0.2882 - acc: 0.9199 - val_loss: 0.2833 - val_acc: 0.9206\n",
      "Epoch 129/200\n",
      "48000/48000 [==============================] - 1s 13us/step - loss: 0.2880 - acc: 0.9196 - val_loss: 0.2832 - val_acc: 0.9207\n",
      "Epoch 130/200\n",
      "48000/48000 [==============================] - 1s 12us/step - loss: 0.2877 - acc: 0.9198 - val_loss: 0.2830 - val_acc: 0.9209\n",
      "Epoch 131/200\n",
      "48000/48000 [==============================] - 1s 13us/step - loss: 0.2875 - acc: 0.9203 - val_loss: 0.2829 - val_acc: 0.9212\n",
      "Epoch 132/200\n",
      "48000/48000 [==============================] - 1s 12us/step - loss: 0.2873 - acc: 0.9202 - val_loss: 0.2827 - val_acc: 0.9210\n",
      "Epoch 133/200\n",
      "48000/48000 [==============================] - 1s 13us/step - loss: 0.2870 - acc: 0.9200 - val_loss: 0.2827 - val_acc: 0.9208\n",
      "Epoch 134/200\n",
      "48000/48000 [==============================] - 1s 12us/step - loss: 0.2869 - acc: 0.9199 - val_loss: 0.2825 - val_acc: 0.9212\n",
      "Epoch 135/200\n",
      "48000/48000 [==============================] - 1s 12us/step - loss: 0.2866 - acc: 0.9203 - val_loss: 0.2823 - val_acc: 0.9213\n",
      "Epoch 136/200\n",
      "48000/48000 [==============================] - 1s 12us/step - loss: 0.2864 - acc: 0.9204 - val_loss: 0.2822 - val_acc: 0.9210\n",
      "Epoch 137/200\n",
      "48000/48000 [==============================] - 1s 13us/step - loss: 0.2862 - acc: 0.9204 - val_loss: 0.2820 - val_acc: 0.9214\n",
      "Epoch 138/200\n",
      "48000/48000 [==============================] - 1s 13us/step - loss: 0.2860 - acc: 0.9204 - val_loss: 0.2819 - val_acc: 0.9215\n",
      "Epoch 139/200\n",
      "48000/48000 [==============================] - 1s 13us/step - loss: 0.2858 - acc: 0.9204 - val_loss: 0.2818 - val_acc: 0.9212\n",
      "Epoch 140/200\n",
      "48000/48000 [==============================] - 1s 12us/step - loss: 0.2856 - acc: 0.9204 - val_loss: 0.2815 - val_acc: 0.9215\n",
      "Epoch 141/200\n",
      "48000/48000 [==============================] - 1s 12us/step - loss: 0.2854 - acc: 0.9208 - val_loss: 0.2814 - val_acc: 0.9217\n",
      "Epoch 142/200\n",
      "48000/48000 [==============================] - 1s 13us/step - loss: 0.2852 - acc: 0.9204 - val_loss: 0.2813 - val_acc: 0.9216\n",
      "Epoch 143/200\n",
      "48000/48000 [==============================] - 1s 13us/step - loss: 0.2850 - acc: 0.9207 - val_loss: 0.2812 - val_acc: 0.9217\n",
      "Epoch 144/200\n",
      "48000/48000 [==============================] - 1s 12us/step - loss: 0.2848 - acc: 0.9208 - val_loss: 0.2810 - val_acc: 0.9217\n",
      "Epoch 145/200\n",
      "48000/48000 [==============================] - 1s 13us/step - loss: 0.2846 - acc: 0.9211 - val_loss: 0.2809 - val_acc: 0.9215\n",
      "Epoch 146/200\n",
      "48000/48000 [==============================] - 1s 13us/step - loss: 0.2845 - acc: 0.9207 - val_loss: 0.2808 - val_acc: 0.9215\n",
      "Epoch 147/200\n",
      "48000/48000 [==============================] - 1s 13us/step - loss: 0.2843 - acc: 0.9209 - val_loss: 0.2807 - val_acc: 0.9217\n",
      "Epoch 148/200\n",
      "48000/48000 [==============================] - 1s 13us/step - loss: 0.2841 - acc: 0.9209 - val_loss: 0.2806 - val_acc: 0.9219\n",
      "Epoch 149/200\n",
      "48000/48000 [==============================] - 1s 13us/step - loss: 0.2839 - acc: 0.9209 - val_loss: 0.2805 - val_acc: 0.9215\n",
      "Epoch 150/200\n",
      "48000/48000 [==============================] - 1s 13us/step - loss: 0.2837 - acc: 0.9210 - val_loss: 0.2803 - val_acc: 0.9215\n",
      "Epoch 151/200\n",
      "48000/48000 [==============================] - 1s 12us/step - loss: 0.2835 - acc: 0.9213 - val_loss: 0.2804 - val_acc: 0.9217\n",
      "Epoch 152/200\n",
      "48000/48000 [==============================] - 1s 13us/step - loss: 0.2834 - acc: 0.9213 - val_loss: 0.2801 - val_acc: 0.9217\n",
      "Epoch 153/200\n",
      "48000/48000 [==============================] - 1s 14us/step - loss: 0.2832 - acc: 0.9208 - val_loss: 0.2800 - val_acc: 0.9216\n",
      "Epoch 154/200\n",
      "48000/48000 [==============================] - 1s 13us/step - loss: 0.2830 - acc: 0.9212 - val_loss: 0.2799 - val_acc: 0.9219\n",
      "Epoch 155/200\n",
      "48000/48000 [==============================] - 1s 12us/step - loss: 0.2828 - acc: 0.9214 - val_loss: 0.2798 - val_acc: 0.9221\n",
      "Epoch 156/200\n",
      "48000/48000 [==============================] - 1s 13us/step - loss: 0.2826 - acc: 0.9212 - val_loss: 0.2797 - val_acc: 0.9217\n",
      "Epoch 157/200\n",
      "48000/48000 [==============================] - 1s 12us/step - loss: 0.2825 - acc: 0.9213 - val_loss: 0.2795 - val_acc: 0.9222\n",
      "Epoch 158/200\n",
      "48000/48000 [==============================] - 1s 13us/step - loss: 0.2823 - acc: 0.9214 - val_loss: 0.2795 - val_acc: 0.9219\n",
      "Epoch 159/200\n",
      "48000/48000 [==============================] - 1s 13us/step - loss: 0.2821 - acc: 0.9216 - val_loss: 0.2794 - val_acc: 0.9222\n",
      "Epoch 160/200\n",
      "48000/48000 [==============================] - 1s 12us/step - loss: 0.2820 - acc: 0.9215 - val_loss: 0.2792 - val_acc: 0.9219\n",
      "Epoch 161/200\n",
      "48000/48000 [==============================] - 1s 13us/step - loss: 0.2818 - acc: 0.9216 - val_loss: 0.2792 - val_acc: 0.9217\n",
      "Epoch 162/200\n",
      "48000/48000 [==============================] - 1s 13us/step - loss: 0.2817 - acc: 0.9217 - val_loss: 0.2790 - val_acc: 0.9219\n",
      "Epoch 163/200\n",
      "48000/48000 [==============================] - 1s 12us/step - loss: 0.2815 - acc: 0.9214 - val_loss: 0.2789 - val_acc: 0.9217\n",
      "Epoch 164/200\n",
      "48000/48000 [==============================] - 1s 13us/step - loss: 0.2813 - acc: 0.9218 - val_loss: 0.2788 - val_acc: 0.9219\n",
      "Epoch 165/200\n",
      "48000/48000 [==============================] - 1s 13us/step - loss: 0.2812 - acc: 0.9219 - val_loss: 0.2787 - val_acc: 0.9223\n",
      "Epoch 166/200\n",
      "48000/48000 [==============================] - 1s 13us/step - loss: 0.2810 - acc: 0.9217 - val_loss: 0.2786 - val_acc: 0.9222\n",
      "Epoch 167/200\n",
      "48000/48000 [==============================] - 1s 13us/step - loss: 0.2809 - acc: 0.9218 - val_loss: 0.2785 - val_acc: 0.9218\n",
      "Epoch 168/200\n",
      "48000/48000 [==============================] - 1s 13us/step - loss: 0.2807 - acc: 0.9216 - val_loss: 0.2785 - val_acc: 0.9218\n",
      "Epoch 169/200\n",
      "48000/48000 [==============================] - 1s 13us/step - loss: 0.2805 - acc: 0.9217 - val_loss: 0.2784 - val_acc: 0.9217\n",
      "Epoch 170/200\n",
      "48000/48000 [==============================] - 1s 12us/step - loss: 0.2804 - acc: 0.9219 - val_loss: 0.2782 - val_acc: 0.9222\n",
      "Epoch 171/200\n",
      "48000/48000 [==============================] - 1s 13us/step - loss: 0.2802 - acc: 0.9219 - val_loss: 0.2782 - val_acc: 0.9217\n",
      "Epoch 172/200\n",
      "48000/48000 [==============================] - 1s 13us/step - loss: 0.2801 - acc: 0.9216 - val_loss: 0.2780 - val_acc: 0.9220\n",
      "Epoch 173/200\n",
      "48000/48000 [==============================] - 1s 12us/step - loss: 0.2799 - acc: 0.9220 - val_loss: 0.2780 - val_acc: 0.9222\n",
      "Epoch 174/200\n",
      "48000/48000 [==============================] - 1s 12us/step - loss: 0.2798 - acc: 0.9219 - val_loss: 0.2779 - val_acc: 0.9223\n",
      "Epoch 175/200\n",
      "48000/48000 [==============================] - 1s 13us/step - loss: 0.2796 - acc: 0.9218 - val_loss: 0.2778 - val_acc: 0.9224\n",
      "Epoch 176/200\n"
     ]
    },
    {
     "name": "stdout",
     "output_type": "stream",
     "text": [
      "48000/48000 [==============================] - 1s 13us/step - loss: 0.2795 - acc: 0.9219 - val_loss: 0.2777 - val_acc: 0.9222\n",
      "Epoch 177/200\n",
      "48000/48000 [==============================] - 1s 13us/step - loss: 0.2794 - acc: 0.9220 - val_loss: 0.2776 - val_acc: 0.9220\n",
      "Epoch 178/200\n",
      "48000/48000 [==============================] - 1s 12us/step - loss: 0.2792 - acc: 0.9219 - val_loss: 0.2775 - val_acc: 0.9219\n",
      "Epoch 179/200\n",
      "48000/48000 [==============================] - 1s 13us/step - loss: 0.2790 - acc: 0.9221 - val_loss: 0.2775 - val_acc: 0.9219\n",
      "Epoch 180/200\n",
      "48000/48000 [==============================] - 1s 13us/step - loss: 0.2789 - acc: 0.9221 - val_loss: 0.2774 - val_acc: 0.9227\n",
      "Epoch 181/200\n",
      "48000/48000 [==============================] - 1s 12us/step - loss: 0.2788 - acc: 0.9221 - val_loss: 0.2772 - val_acc: 0.9225\n",
      "Epoch 182/200\n",
      "48000/48000 [==============================] - 1s 13us/step - loss: 0.2787 - acc: 0.9224 - val_loss: 0.2772 - val_acc: 0.9226\n",
      "Epoch 183/200\n",
      "48000/48000 [==============================] - 1s 12us/step - loss: 0.2785 - acc: 0.9223 - val_loss: 0.2771 - val_acc: 0.9221\n",
      "Epoch 184/200\n",
      "48000/48000 [==============================] - 1s 13us/step - loss: 0.2784 - acc: 0.9222 - val_loss: 0.2770 - val_acc: 0.9224\n",
      "Epoch 185/200\n",
      "48000/48000 [==============================] - 1s 13us/step - loss: 0.2782 - acc: 0.9224 - val_loss: 0.2770 - val_acc: 0.9221\n",
      "Epoch 186/200\n",
      "48000/48000 [==============================] - 1s 13us/step - loss: 0.2781 - acc: 0.9221 - val_loss: 0.2768 - val_acc: 0.9222\n",
      "Epoch 187/200\n",
      "48000/48000 [==============================] - 1s 13us/step - loss: 0.2780 - acc: 0.9224 - val_loss: 0.2767 - val_acc: 0.9220\n",
      "Epoch 188/200\n",
      "48000/48000 [==============================] - 1s 12us/step - loss: 0.2778 - acc: 0.9226 - val_loss: 0.2767 - val_acc: 0.9229\n",
      "Epoch 189/200\n",
      "48000/48000 [==============================] - 1s 13us/step - loss: 0.2777 - acc: 0.9220 - val_loss: 0.2766 - val_acc: 0.9228\n",
      "Epoch 190/200\n",
      "48000/48000 [==============================] - 1s 13us/step - loss: 0.2776 - acc: 0.9225 - val_loss: 0.2765 - val_acc: 0.9228\n",
      "Epoch 191/200\n",
      "48000/48000 [==============================] - 1s 13us/step - loss: 0.2774 - acc: 0.9228 - val_loss: 0.2765 - val_acc: 0.9225\n",
      "Epoch 192/200\n",
      "48000/48000 [==============================] - 1s 14us/step - loss: 0.2773 - acc: 0.9226 - val_loss: 0.2764 - val_acc: 0.9223\n",
      "Epoch 193/200\n",
      "48000/48000 [==============================] - 1s 12us/step - loss: 0.2772 - acc: 0.9228 - val_loss: 0.2763 - val_acc: 0.9229\n",
      "Epoch 194/200\n",
      "48000/48000 [==============================] - 1s 12us/step - loss: 0.2771 - acc: 0.9227 - val_loss: 0.2762 - val_acc: 0.9227\n",
      "Epoch 195/200\n",
      "48000/48000 [==============================] - 1s 13us/step - loss: 0.2769 - acc: 0.9225 - val_loss: 0.2761 - val_acc: 0.9225\n",
      "Epoch 196/200\n",
      "48000/48000 [==============================] - 1s 13us/step - loss: 0.2768 - acc: 0.9227 - val_loss: 0.2761 - val_acc: 0.9224\n",
      "Epoch 197/200\n",
      "48000/48000 [==============================] - 1s 14us/step - loss: 0.2766 - acc: 0.9226 - val_loss: 0.2760 - val_acc: 0.9225\n",
      "Epoch 198/200\n",
      "48000/48000 [==============================] - 1s 13us/step - loss: 0.2766 - acc: 0.9227 - val_loss: 0.2759 - val_acc: 0.9228\n",
      "Epoch 199/200\n",
      "48000/48000 [==============================] - 1s 13us/step - loss: 0.2764 - acc: 0.9227 - val_loss: 0.2759 - val_acc: 0.9229\n",
      "Epoch 200/200\n",
      "48000/48000 [==============================] - 1s 13us/step - loss: 0.2763 - acc: 0.9226 - val_loss: 0.2758 - val_acc: 0.9223\n"
     ]
    }
   ],
   "source": [
    "history = model.fit(X_train, Y_train, batch_size=128, epochs=200, validation_split=0.2 )"
   ]
  },
  {
   "cell_type": "code",
   "execution_count": 424,
   "metadata": {},
   "outputs": [],
   "source": [
    "train_results = DataFrame(history.history)"
   ]
  },
  {
   "cell_type": "code",
   "execution_count": 425,
   "metadata": {},
   "outputs": [
    {
     "data": {
      "text/plain": [
       "<matplotlib.axes._subplots.AxesSubplot at 0x12f24668>"
      ]
     },
     "execution_count": 425,
     "metadata": {},
     "output_type": "execute_result"
    },
    {
     "data": {
      "image/png": "[encoded data removed]",
      "text/plain": [
       "<matplotlib.figure.Figure at 0x14201c18>"
      ]
     },
     "metadata": {},
     "output_type": "display_data"
    }
   ],
   "source": [
    "train_results[['acc','val_acc']].plot()"
   ]
  },
  {
   "cell_type": "markdown",
   "metadata": {},
   "source": [
    "## 위의 결과\n",
    "위의 결과를 보면 과소적합 과적합 둘다 안일어나고 빠르게 최적화/일반화가 이뤄진걸 볼 수 있따."
   ]
  },
  {
   "cell_type": "markdown",
   "metadata": {},
   "source": [
    "은닉층(Hidden Layer)"
   ]
  },
  {
   "cell_type": "code",
   "execution_count": 441,
   "metadata": {
    "collapsed": true
   },
   "outputs": [],
   "source": [
    "model = Sequential()"
   ]
  },
  {
   "cell_type": "markdown",
   "metadata": {},
   "source": [
    "1층"
   ]
  },
  {
   "cell_type": "code",
   "execution_count": 442,
   "metadata": {},
   "outputs": [],
   "source": [
    "model.add(Dense(128, input_shape=(28*28,), activation='relu'))"
   ]
  },
  {
   "cell_type": "markdown",
   "metadata": {},
   "source": [
    "2층"
   ]
  },
  {
   "cell_type": "code",
   "execution_count": 443,
   "metadata": {
    "collapsed": true
   },
   "outputs": [],
   "source": [
    "model.add(Dense(128, activation='relu'))"
   ]
  },
  {
   "cell_type": "code",
   "execution_count": 444,
   "metadata": {
    "collapsed": true
   },
   "outputs": [],
   "source": [
    "model.add(Dense(128, activation='relu')) "
   ]
  },
  {
   "cell_type": "markdown",
   "metadata": {},
   "source": [
    "컴파일"
   ]
  },
  {
   "cell_type": "code",
   "execution_count": 445,
   "metadata": {
    "collapsed": true
   },
   "outputs": [],
   "source": [
    "model.add(Dense(10, activation='softmax'))"
   ]
  },
  {
   "cell_type": "markdown",
   "metadata": {},
   "source": [
    "모델 컴파일"
   ]
  },
  {
   "cell_type": "code",
   "execution_count": 446,
   "metadata": {
    "collapsed": true
   },
   "outputs": [],
   "source": [
    "model.compile(\n",
    "    loss='categorical_crossentropy', optimizer='sgd',\n",
    "    metrics=['accuracy']\n",
    ")"
   ]
  },
  {
   "cell_type": "markdown",
   "metadata": {},
   "source": [
    "모델 훈련"
   ]
  },
  {
   "cell_type": "code",
   "execution_count": 447,
   "metadata": {},
   "outputs": [
    {
     "name": "stdout",
     "output_type": "stream",
     "text": [
      "Epoch 1/20\n",
      "60000/60000 [==============================] - 2s 27us/step - loss: 1.3911 - acc: 0.6249\n",
      "Epoch 2/20\n",
      "60000/60000 [==============================] - 1s 23us/step - loss: 0.4784 - acc: 0.8691\n",
      "Epoch 3/20\n",
      "60000/60000 [==============================] - 1s 23us/step - loss: 0.3643 - acc: 0.8957\n",
      "Epoch 4/20\n",
      "60000/60000 [==============================] - 1s 23us/step - loss: 0.3177 - acc: 0.9078\n",
      "Epoch 5/20\n",
      "60000/60000 [==============================] - 1s 23us/step - loss: 0.2883 - acc: 0.9156\n",
      "Epoch 6/20\n",
      "60000/60000 [==============================] - 1s 23us/step - loss: 0.2657 - acc: 0.9222\n",
      "Epoch 7/20\n",
      "60000/60000 [==============================] - 1s 23us/step - loss: 0.2475 - acc: 0.9275\n",
      "Epoch 8/20\n",
      "60000/60000 [==============================] - 1s 23us/step - loss: 0.2321 - acc: 0.9326\n",
      "Epoch 9/20\n",
      "60000/60000 [==============================] - 1s 23us/step - loss: 0.2185 - acc: 0.9368\n",
      "Epoch 10/20\n",
      "60000/60000 [==============================] - 1s 23us/step - loss: 0.2065 - acc: 0.9400\n",
      "Epoch 11/20\n",
      "60000/60000 [==============================] - 1s 23us/step - loss: 0.1959 - acc: 0.9429\n",
      "Epoch 12/20\n",
      "60000/60000 [==============================] - 1s 23us/step - loss: 0.1864 - acc: 0.9457\n",
      "Epoch 13/20\n",
      "60000/60000 [==============================] - 1s 23us/step - loss: 0.1778 - acc: 0.9479\n",
      "Epoch 14/20\n",
      "60000/60000 [==============================] - 1s 23us/step - loss: 0.1695 - acc: 0.9508\n",
      "Epoch 15/20\n",
      "60000/60000 [==============================] - 1s 23us/step - loss: 0.1620 - acc: 0.9529\n",
      "Epoch 16/20\n",
      "60000/60000 [==============================] - 1s 23us/step - loss: 0.1556 - acc: 0.9550\n",
      "Epoch 17/20\n",
      "60000/60000 [==============================] - 1s 23us/step - loss: 0.1494 - acc: 0.9566\n",
      "Epoch 18/20\n",
      "60000/60000 [==============================] - 1s 23us/step - loss: 0.1437 - acc: 0.9581\n",
      "Epoch 19/20\n",
      "60000/60000 [==============================] - 1s 23us/step - loss: 0.1382 - acc: 0.9601\n",
      "Epoch 20/20\n",
      "60000/60000 [==============================] - 1s 23us/step - loss: 0.1326 - acc: 0.9615\n"
     ]
    }
   ],
   "source": [
    "history = model.fit(\n",
    "    X_train, Y_train, batch_size=128, epochs=20,\n",
    "    \n",
    ")"
   ]
  },
  {
   "cell_type": "code",
   "execution_count": 448,
   "metadata": {},
   "outputs": [
    {
     "name": "stdout",
     "output_type": "stream",
     "text": [
      "_________________________________________________________________\n",
      "Layer (type)                 Output Shape              Param #   \n",
      "=================================================================\n",
      "dense_6 (Dense)              (None, 128)               100480    \n",
      "_________________________________________________________________\n",
      "dense_7 (Dense)              (None, 128)               16512     \n",
      "_________________________________________________________________\n",
      "dense_8 (Dense)              (None, 128)               16512     \n",
      "_________________________________________________________________\n",
      "dense_9 (Dense)              (None, 10)                1290      \n",
      "=================================================================\n",
      "Total params: 134,794\n",
      "Trainable params: 134,794\n",
      "Non-trainable params: 0\n",
      "_________________________________________________________________\n"
     ]
    }
   ],
   "source": [
    "model.summary()"
   ]
  },
  {
   "cell_type": "code",
   "execution_count": null,
   "metadata": {
    "collapsed": true
   },
   "outputs": [],
   "source": []
  }
 ],
 "metadata": {
  "kernelspec": {
   "display_name": "Python 3",
   "language": "python",
   "name": "python3"
  },
  "language_info": {
   "codemirror_mode": {
    "name": "ipython",
    "version": 3
   },
   "file_extension": ".py",
   "mimetype": "text/x-python",
   "name": "python",
   "nbconvert_exporter": "python",
   "pygments_lexer": "ipython3",
   "version": "3.6.1"
  }
 },
 "nbformat": 4,
 "nbformat_minor": 2
}
