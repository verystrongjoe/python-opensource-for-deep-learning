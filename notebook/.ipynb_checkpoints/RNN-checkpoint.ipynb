{
 "cells": [
  {
   "cell_type": "code",
   "execution_count": 1,
   "metadata": {
    "scrolled": true
   },
   "outputs": [
    {
     "name": "stderr",
     "output_type": "stream",
     "text": [
      "Using TensorFlow backend.\n"
     ]
    }
   ],
   "source": [
    "import numpy as np\n",
    "from pandas import Series, DataFrame\n",
    "import pandas as pd\n",
    "\n",
    "from sklearn.model_selection import train_test_split\n",
    "\n",
    "from keras.models import Sequential\n",
    "from keras.layers import Dense, Activation\n",
    "\n",
    "import nltk\n",
    "\n",
    "%matplotlib inline"
   ]
  },
  {
   "cell_type": "markdown",
   "metadata": {},
   "source": [
    "# SimpleRNN "
   ]
  },
  {
   "cell_type": "code",
   "execution_count": 2,
   "metadata": {},
   "outputs": [
    {
     "data": {
      "text/plain": [
       "'the project gutenberg ebook of alice in wonderland, by alice gerstenberg  this ebook is for the use of anyone anywhere at no cost and with almost no restrictions whatsoever.  you may copy it, give it '"
      ]
     },
     "execution_count": 2,
     "metadata": {},
     "output_type": "execute_result"
    }
   ],
   "source": [
    "text = ''\n",
    "with open('data/alice_in_wonderland.txt', encoding='utf-8-sig') as file:\n",
    "    for line in file:\n",
    "        text += line.strip().lower() + ' '\n",
    "\n",
    "text[:200]"
   ]
  },
  {
   "cell_type": "code",
   "execution_count": 3,
   "metadata": {
    "collapsed": true
   },
   "outputs": [],
   "source": [
    "SEQLEN = 10\n",
    "\n",
    "input_chars = []\n",
    "label_chars = []\n",
    "for i in range(0, len(text) - SEQLEN):\n",
    "    input_chars.append(text[i:i + SEQLEN])\n",
    "    label_chars.append(text[i + SEQLEN])"
   ]
  },
  {
   "cell_type": "code",
   "execution_count": 4,
   "metadata": {
    "collapsed": true
   },
   "outputs": [],
   "source": [
    "import itertools"
   ]
  },
  {
   "cell_type": "code",
   "execution_count": 5,
   "metadata": {},
   "outputs": [
    {
     "name": "stdout",
     "output_type": "stream",
     "text": [
      "the projec --> t\n",
      "he project -->  \n",
      "e project  --> g\n",
      " project g --> u\n",
      "project gu --> t\n",
      "roject gut --> e\n",
      "oject gute --> n\n",
      "ject guten --> b\n",
      "ect gutenb --> e\n",
      "ct gutenbe --> r\n"
     ]
    }
   ],
   "source": [
    "for seq, n in itertools.islice(zip(input_chars, label_chars), 0, 10):\n",
    "    print('{} --> {}'.format(seq, n))"
   ]
  },
  {
   "cell_type": "markdown",
   "metadata": {},
   "source": [
    "각 글자별 벡터화"
   ]
  },
  {
   "cell_type": "code",
   "execution_count": 6,
   "metadata": {
    "collapsed": true
   },
   "outputs": [],
   "source": [
    "index2char = Series(c for c in text).drop_duplicates().reset_index(drop=True)\n",
    "char2index = Series(index2char.index, index=index2char.values)\n",
    "nchars = len(char2index)"
   ]
  },
  {
   "cell_type": "code",
   "execution_count": 7,
   "metadata": {
    "collapsed": true
   },
   "outputs": [],
   "source": [
    "X = np.zeros((len(input_chars), SEQLEN, nchars), dtype=np.bool)\n",
    "y = np.zeros((len(input_chars), nchars), dtype=np.bool)"
   ]
  },
  {
   "cell_type": "code",
   "execution_count": 8,
   "metadata": {},
   "outputs": [
    {
     "data": {
      "text/plain": [
       "((103551, 10, 58), (103551, 58))"
      ]
     },
     "execution_count": 8,
     "metadata": {},
     "output_type": "execute_result"
    }
   ],
   "source": [
    "X.shape, y.shape"
   ]
  },
  {
   "cell_type": "code",
   "execution_count": 9,
   "metadata": {
    "collapsed": true
   },
   "outputs": [],
   "source": [
    "for i, input_char in enumerate(input_chars):\n",
    "    for j, ch in enumerate(input_char):\n",
    "        X[i, j, char2index[ch]] = 1\n",
    "    y[i, char2index[label_chars[i]]] = 1"
   ]
  },
  {
   "cell_type": "markdown",
   "metadata": {},
   "source": [
    "다음 글자를 예측하는 Simple RNN 모델"
   ]
  },
  {
   "cell_type": "code",
   "execution_count": 10,
   "metadata": {
    "collapsed": true
   },
   "outputs": [],
   "source": [
    "from keras.layers.recurrent import SimpleRNN"
   ]
  },
  {
   "cell_type": "code",
   "execution_count": 11,
   "metadata": {
    "collapsed": true
   },
   "outputs": [],
   "source": [
    "model = Sequential()\n",
    "model.add(SimpleRNN(128, return_sequences=False,\n",
    "                    input_shape=(SEQLEN, nchars),\n",
    "                    unroll=True)) # Tensorflow 성능 향상\n",
    "model.add(Dense(nchars))\n",
    "model.add(Activation(\"softmax\"))\n",
    "\n",
    "model.compile(loss=\"categorical_crossentropy\", optimizer=\"rmsprop\")"
   ]
  },
  {
   "cell_type": "markdown",
   "metadata": {},
   "source": [
    "라벨이 부여된 데이터가 없어서 훈련은 한번만 수행하고, 테스트."
   ]
  },
  {
   "cell_type": "code",
   "execution_count": 12,
   "metadata": {},
   "outputs": [
    {
     "name": "stdout",
     "output_type": "stream",
     "text": [
      "\n",
      "==================================================\n",
      "Iteration #: 0\n",
      "Epoch 1/1\n",
      "103551/103551 [==============================] - 4s - loss: 2.5385     \n",
      "Generating from seed: herself ha\n",
      "herself ha dor the  alice  and the sou the  alice  and the sou the  alice  and the sou the  alice  and the sou\n",
      "==================================================\n",
      "Iteration #: 1\n",
      "Epoch 1/1\n",
      "103551/103551 [==============================] - 4s - loss: 2.1813     \n",
      "Generating from seed: ve foundat\n",
      "ve foundat  all the  alice  all chat ing the queen  for alice  all chat ing the queen  for alice  all chat ing\n",
      "==================================================\n",
      "Iteration #: 2\n",
      "Epoch 1/1\n",
      "103551/103551 [==============================] - 4s - loss: 2.0760     \n",
      "Generating from seed: curtain   \n",
      "curtain   alice  i meand the souse fore the salle the mare  all the master and the souse fore the salle the ma\n",
      "==================================================\n",
      "Iteration #: 3\n",
      "Epoch 1/1\n",
      "103551/103551 [==============================] - 4s - loss: 2.0009     \n",
      "Generating from seed:  alice sea\n",
      " alice sean the way she dome to the work the project gutenberg-tm the project gutenberg-tm the project gutenbe\n",
      "==================================================\n",
      "Iteration #: 4\n",
      "Epoch 1/1\n",
      "103551/103551 [==============================] - 4s - loss: 1.9392     \n",
      "Generating from seed: s are in a\n",
      "s are in all the  arte the sout the  all the  arte the sout the  all the  arte the sout the  all the  arte the\n",
      "==================================================\n",
      "Iteration #: 5\n",
      "Epoch 1/1\n",
      "103551/103551 [==============================] - 4s - loss: 1.8847     \n",
      "Generating from seed: ion copyri\n",
      "ion copyright  [_she sous and the  arde mat  a den't know it in the project gutenberg-tm alice  i don't know i\n",
      "==================================================\n",
      "Iteration #: 6\n",
      "Epoch 1/1\n",
      "103551/103551 [==============================] - 4s - loss: 1.8387     \n",
      "Generating from seed: d tax exem\n",
      "d tax exementer and what is a don't know whe doer been the project gutenberg-tm the project gutenberg-tm the p\n",
      "==================================================\n",
      "Iteration #: 7\n",
      "Epoch 1/1\n",
      "103551/103551 [==============================] - 4s - loss: 1.7967     \n",
      "Generating from seed: and tweedl\n",
      "and tweedle the bean she don't an whing the gates of the some the don't an whing the gates of the some the don\n",
      "==================================================\n",
      "Iteration #: 8\n",
      "Epoch 1/1\n",
      "103551/103551 [==============================] - 4s - loss: 1.7607     \n",
      "Generating from seed: een a-dres\n",
      "een a-dresters of the to the berous a don't the from the from the from the from the from the from the from the\n",
      "==================================================\n",
      "Iteration #: 9\n",
      "Epoch 1/1\n",
      "103551/103551 [==============================] - 4s - loss: 1.7273     \n",
      "Generating from seed:  come to t\n",
      " come to the sook and she sook and she sook and she sook and she sook and she sook and she sook and she sook a\n",
      "==================================================\n",
      "Iteration #: 10\n",
      "Epoch 1/1\n",
      "103551/103551 [==============================] - 4s - loss: 1.6991     \n",
      "Generating from seed: various fo\n",
      "various for a linge shat she pars the been the gay the reave it the butter work in the same the formouse she s\n",
      "==================================================\n",
      "Iteration #: 11\n",
      "Epoch 1/1\n",
      "103551/103551 [==============================] - 4s - loss: 1.6728     \n",
      "Generating from seed:  gutenberg\n",
      " gutenberg-tm work and conting the cours and reading the can a don't be to the butt be and the cours and readi\n",
      "==================================================\n",
      "Iteration #: 12\n",
      "Epoch 1/1\n",
      "103551/103551 [==============================] - 4s - loss: 1.6506     \n",
      "Generating from seed: ice  no, i\n",
      "ice  no, i've to the mares and reads and rabbit  now you don't know a don't be the wing and got the cars and w\n",
      "==================================================\n",
      "Iteration #: 13\n",
      "Epoch 1/1\n",
      "103551/103551 [==============================] - 4s - loss: 1.6277     \n",
      "Generating from seed:    march h\n",
      "   march hare  i don't know i can't the formouse to the must of the morth in a sing and the bean soun and the \n",
      "==================================================\n",
      "Iteration #: 14\n",
      "Epoch 1/1\n",
      "103551/103551 [==============================] - 4s - loss: 1.6081     \n",
      "Generating from seed:  you been \n",
      " you been to see she can she dormouse  alice  i don't know it the come and of the some the come and of the som\n",
      "==================================================\n",
      "Iteration #: 15\n",
      "Epoch 1/1\n",
      "103551/103551 [==============================] - 4s - loss: 1.5888     \n",
      "Generating from seed: th a teacu\n",
      "th a teaculing for a the seread and alice sneezes._]   alice  i don't know i said a to got to the works in the\n",
      "==================================================\n",
      "Iteration #: 16\n",
      "Epoch 1/1\n",
      "103551/103551 [==============================] - 4s - loss: 1.5733     \n",
      "Generating from seed:    alice  \n",
      "   alice  i don't know in the same that the that the that the that the that the that the that the that the tha\n",
      "==================================================\n",
      "Iteration #: 17\n",
      "Epoch 1/1\n",
      "103551/103551 [==============================] - 4s - loss: 1.5556     \n",
      "Generating from seed:  as far ou\n",
      " as far out the thing of the project gutenberg-tm electronic works to the project gutenberg-tm electronic work\n",
      "==================================================\n",
      "Iteration #: 18\n",
      "Epoch 1/1\n",
      "103551/103551 [==============================] - 4s - loss: 1.5428     \n",
      "Generating from seed: i'll have \n",
      "i'll have off warts the some here woth the forght the tor door the donations to the mort of the project gutenb\n",
      "==================================================\n",
      "Iteration #: 19\n",
      "Epoch 1/1\n",
      "103551/103551 [==============================] - 4s - loss: 1.5279     \n",
      "Generating from seed: he other e\n",
      "he other enet in the foundation  the queen of the project gutenberg literary archive foundation  the queen of \n",
      "==================================================\n",
      "Iteration #: 20\n",
      "Epoch 1/1\n",
      "103551/103551 [==============================] - 4s - loss: 1.5154     \n",
      "Generating from seed: ds don't _\n",
      "ds don't _mone that the walks and makes and makes and makes and makes and makes and makes and makes and makes \n",
      "==================================================\n",
      "Iteration #: 21\n",
      "Epoch 1/1\n",
      "103551/103551 [==============================] - 4s - loss: 1.5029     \n",
      "Generating from seed: e pepper w\n",
      "e pepper when i mas of the some the state and some of the some the state and some of the some the state and so\n",
      "==================================================\n",
      "Iteration #: 22\n",
      "Epoch 1/1\n",
      "103551/103551 [==============================] - 4s - loss: 1.4923     \n",
      "Generating from seed: rg  author\n",
      "rg  author on the march hare  she see the march hare  she see the march hare  she see the march hare  she see \n",
      "==================================================\n",
      "Iteration #: 23\n",
      "Epoch 1/1\n",
      "103551/103551 [==============================] - 4s - loss: 1.4819     \n",
      "Generating from seed: en dropped\n",
      "en dropped in the march hare  she say with the geas of the project gutenberg-tm work and the queen of hearts a\n",
      "==================================================\n",
      "Iteration #: 24\n",
      "Epoch 1/1\n",
      "103551/103551 [==============================] - 4s - loss: 1.4708     \n",
      "Generating from seed: on?   king\n",
      "on?   king  i don't know i was and the stall so a but it is a seart in a langers and the stall so a but it is "
     ]
    }
   ],
   "source": [
    "for iteration in range(25):\n",
    "    print('\\n'+\"=\" * 50)\n",
    "    print(\"Iteration #: {}\".format(iteration))\n",
    "    model.fit(X, y, batch_size=128, epochs=1)\n",
    "    \n",
    "    # 모델 테스트\n",
    "    # input_chars에서 무작위로 추출\n",
    "    test_idx = np.random.randint(len(input_chars))\n",
    "    test_chars = input_chars[test_idx]\n",
    "    print(\"Generating from seed: {}\".format(test_chars))\n",
    "    print(test_chars, end=\"\")\n",
    "\n",
    "    # 다음 100자 예측\n",
    "    for i in range(100):\n",
    "        Xtest = np.zeros((1, SEQLEN, nchars))\n",
    "        for i, ch in enumerate(test_chars):\n",
    "            Xtest[0, i, char2index[ch]] = 1\n",
    "        pred = model.predict(Xtest, verbose=0)[0]\n",
    "        ypred = index2char[np.argmax(pred)]\n",
    "        print(ypred, end=\"\")\n",
    "        # 다음 테스트 test_chars + ypred\n",
    "        test_chars = test_chars[1:] + ypred"
   ]
  },
  {
   "cell_type": "markdown",
   "metadata": {},
   "source": [
    "## LSTM\n",
    "\n",
    "SimpleRNN의 vanishing gradient 문제 개선"
   ]
  },
  {
   "cell_type": "code",
   "execution_count": 13,
   "metadata": {
    "collapsed": true
   },
   "outputs": [],
   "source": [
    "with open('data/umich/umich-sentiment-train.txt') as file:\n",
    "    y, sents = [], []\n",
    "    for line in file:\n",
    "        label, sent = line.strip().lower().split('\\t')\n",
    "        y.append(int(label))\n",
    "        sents.append(nltk.word_tokenize(sent))"
   ]
  },
  {
   "cell_type": "code",
   "execution_count": 14,
   "metadata": {},
   "outputs": [
    {
     "data": {
      "text/plain": [
       "0    [the, da, vinci, code, book, is, just, awesome...\n",
       "1    [this, was, the, first, clive, cussler, i, 've...\n",
       "2          [i, liked, the, da, vinci, code, a, lot, .]\n",
       "dtype: object"
      ]
     },
     "execution_count": 14,
     "metadata": {},
     "output_type": "execute_result"
    }
   ],
   "source": [
    "sents = Series(sents)\n",
    "sents[:3]"
   ]
  },
  {
   "cell_type": "code",
   "execution_count": 15,
   "metadata": {},
   "outputs": [
    {
     "data": {
      "text/plain": [
       "7086"
      ]
     },
     "execution_count": 15,
     "metadata": {},
     "output_type": "execute_result"
    }
   ],
   "source": [
    "n_samples = len(sents)\n",
    "n_samples"
   ]
  },
  {
   "cell_type": "markdown",
   "metadata": {},
   "source": [
    "입력 크기를 설정하기 위해 최대값을 구한다."
   ]
  },
  {
   "cell_type": "code",
   "execution_count": 16,
   "metadata": {},
   "outputs": [
    {
     "data": {
      "text/plain": [
       "42"
      ]
     },
     "execution_count": 16,
     "metadata": {},
     "output_type": "execute_result"
    }
   ],
   "source": [
    "maxlen = sents.str.len().max()\n",
    "maxlen"
   ]
  },
  {
   "cell_type": "code",
   "execution_count": 17,
   "metadata": {},
   "outputs": [
    {
     "data": {
      "text/plain": [
       "0        the\n",
       "1         da\n",
       "2      vinci\n",
       "3       code\n",
       "4       book\n",
       "5         is\n",
       "6       just\n",
       "7    awesome\n",
       "8          .\n",
       "9       this\n",
       "dtype: object"
      ]
     },
     "execution_count": 17,
     "metadata": {},
     "output_type": "execute_result"
    }
   ],
   "source": [
    "tokens = Series(t for sent in sents for t in sent)\n",
    "tokens[:10]"
   ]
  },
  {
   "cell_type": "code",
   "execution_count": 18,
   "metadata": {
    "collapsed": true
   },
   "outputs": [],
   "source": [
    "tokens = Series(['PAD', 'UNK']).append(tokens)"
   ]
  },
  {
   "cell_type": "code",
   "execution_count": 19,
   "metadata": {},
   "outputs": [
    {
     "data": {
      "text/plain": [
       "0      PAD\n",
       "1      UNK\n",
       "2      the\n",
       "3       da\n",
       "4    vinci\n",
       "dtype: object"
      ]
     },
     "execution_count": 19,
     "metadata": {},
     "output_type": "execute_result"
    }
   ],
   "source": [
    "index2word = tokens.drop_duplicates().reset_index(drop=True)\n",
    "index2word[:5]"
   ]
  },
  {
   "cell_type": "code",
   "execution_count": 20,
   "metadata": {},
   "outputs": [
    {
     "data": {
      "text/plain": [
       "PAD        0\n",
       "UNK        1\n",
       "the        2\n",
       "da         3\n",
       "vinci      4\n",
       "code       5\n",
       "book       6\n",
       "is         7\n",
       "just       8\n",
       "awesome    9\n",
       "dtype: int64"
      ]
     },
     "execution_count": 20,
     "metadata": {},
     "output_type": "execute_result"
    }
   ],
   "source": [
    "word2index = Series(index2word.index, index=index2word.values)\n",
    "word2index[:10]"
   ]
  },
  {
   "cell_type": "code",
   "execution_count": 21,
   "metadata": {
    "collapsed": true
   },
   "outputs": [],
   "source": [
    "X = []\n",
    "for sent in sents:\n",
    "    seqs = []\n",
    "    for token in sent:\n",
    "        if token in word2index:\n",
    "            seqs.append(word2index[token])\n",
    "        else:\n",
    "            seqs.append(word2index['UNK'])\n",
    "    X.append(seqs)"
   ]
  },
  {
   "cell_type": "code",
   "execution_count": 22,
   "metadata": {
    "collapsed": true
   },
   "outputs": [],
   "source": [
    "from keras.preprocessing import sequence"
   ]
  },
  {
   "cell_type": "code",
   "execution_count": 23,
   "metadata": {},
   "outputs": [
    {
     "data": {
      "text/plain": [
       "array([[ 0,  0,  0,  0,  0,  0,  0,  0,  0,  0,  0,  0,  0,  0,  0,  0,  0,\n",
       "         0,  0,  0,  0,  0,  0,  0,  0,  0,  0,  0,  0,  0,  0,  0,  0,  2,\n",
       "         3,  4,  5,  6,  7,  8,  9, 10],\n",
       "       [ 0,  0,  0,  0,  0,  0,  0,  0,  0,  0,  0,  0,  0,  0,  0, 11, 12,\n",
       "         2, 13, 14, 15, 16, 17, 18, 19, 20, 21, 22, 23, 24, 25, 20, 26,  3,\n",
       "         4,  5, 27, 28, 29, 30, 11, 10],\n",
       "       [ 0,  0,  0,  0,  0,  0,  0,  0,  0,  0,  0,  0,  0,  0,  0,  0,  0,\n",
       "         0,  0,  0,  0,  0,  0,  0,  0,  0,  0,  0,  0,  0,  0,  0,  0, 16,\n",
       "        31,  2,  3,  4,  5, 32, 33, 10],\n",
       "       [ 0,  0,  0,  0,  0,  0,  0,  0,  0,  0,  0,  0,  0,  0,  0,  0,  0,\n",
       "         0,  0,  0,  0,  0,  0,  0,  0,  0,  0,  0,  0,  0,  0,  0,  0, 16,\n",
       "        31,  2,  3,  4,  5, 32, 33, 10],\n",
       "       [ 0,  0,  0,  0,  0,  0,  0,  0,  0,  0,  0,  0,  0,  0,  0,  0,  0,\n",
       "         0,  0,  0,  0,  0,  0,  0, 16, 31,  2,  3,  4,  5, 21, 34, 35, 36,\n",
       "        37, 38, 39, 40, 34, 41, 42, 10]], dtype=int32)"
      ]
     },
     "execution_count": 23,
     "metadata": {},
     "output_type": "execute_result"
    }
   ],
   "source": [
    "X = sequence.pad_sequences(X, maxlen=maxlen)\n",
    "X[:5]"
   ]
  },
  {
   "cell_type": "code",
   "execution_count": 24,
   "metadata": {
    "collapsed": true
   },
   "outputs": [],
   "source": [
    "X_train, X_test, y_train, y_test = train_test_split(X, y, test_size=0.2)"
   ]
  },
  {
   "cell_type": "markdown",
   "metadata": {},
   "source": [
    "모델 빌드"
   ]
  },
  {
   "cell_type": "code",
   "execution_count": 25,
   "metadata": {
    "collapsed": true
   },
   "outputs": [],
   "source": [
    "from keras.layers.core import Activation, Dense, Dropout, SpatialDropout1D\n",
    "from keras.layers.embeddings import Embedding\n",
    "from keras.layers.recurrent import LSTM"
   ]
  },
  {
   "cell_type": "code",
   "execution_count": 26,
   "metadata": {
    "collapsed": true
   },
   "outputs": [],
   "source": [
    "model = Sequential()\n",
    "model.add(Embedding(input_dim=n_samples, output_dim=128, input_length=maxlen))\n",
    "model.add(SpatialDropout1D(0.2))\n",
    "model.add(LSTM(64, dropout=0.2, recurrent_dropout=0.2))\n",
    "model.add(Dense(1))\n",
    "model.add(Activation(\"sigmoid\"))\n",
    "\n",
    "model.compile(loss=\"binary_crossentropy\", optimizer=\"adam\", \n",
    "              metrics=[\"accuracy\"])"
   ]
  },
  {
   "cell_type": "markdown",
   "metadata": {},
   "source": [
    "훈련"
   ]
  },
  {
   "cell_type": "code",
   "execution_count": 27,
   "metadata": {},
   "outputs": [
    {
     "name": "stdout",
     "output_type": "stream",
     "text": [
      "Train on 4534 samples, validate on 1134 samples\n",
      "Epoch 1/10\n",
      "4534/4534 [==============================] - 13s - loss: 0.2776 - acc: 0.8714 - val_loss: 0.0635 - val_acc: 0.9806\n",
      "Epoch 2/10\n",
      "4534/4534 [==============================] - 11s - loss: 0.0361 - acc: 0.9896 - val_loss: 0.0452 - val_acc: 0.9832\n",
      "Epoch 3/10\n",
      "4534/4534 [==============================] - 11s - loss: 0.0116 - acc: 0.9978 - val_loss: 0.0392 - val_acc: 0.9859\n",
      "Epoch 4/10\n",
      "4534/4534 [==============================] - 11s - loss: 0.0079 - acc: 0.9980 - val_loss: 0.0351 - val_acc: 0.9903\n",
      "Epoch 5/10\n",
      "4534/4534 [==============================] - 11s - loss: 0.0040 - acc: 0.9989 - val_loss: 0.0428 - val_acc: 0.9868\n",
      "Epoch 6/10\n",
      "4534/4534 [==============================] - 11s - loss: 0.0026 - acc: 0.9996 - val_loss: 0.0392 - val_acc: 0.9903\n",
      "Epoch 7/10\n",
      "4534/4534 [==============================] - 11s - loss: 0.0015 - acc: 0.9998 - val_loss: 0.0563 - val_acc: 0.9894\n",
      "Epoch 8/10\n",
      "4534/4534 [==============================] - 11s - loss: 0.0015 - acc: 0.9998 - val_loss: 0.0482 - val_acc: 0.9877\n",
      "Epoch 9/10\n",
      "4534/4534 [==============================] - 11s - loss: 0.0014 - acc: 0.9996 - val_loss: 0.0412 - val_acc: 0.9929\n",
      "Epoch 10/10\n",
      "4534/4534 [==============================] - 11s - loss: 0.0017 - acc: 0.9996 - val_loss: 0.0516 - val_acc: 0.9921\n"
     ]
    }
   ],
   "source": [
    "history = model.fit(X_train, y_train, batch_size=32, epochs=10, validation_split=0.2)"
   ]
  },
  {
   "cell_type": "code",
   "execution_count": 28,
   "metadata": {
    "collapsed": true
   },
   "outputs": [],
   "source": [
    "train_result = DataFrame(history.history)"
   ]
  },
  {
   "cell_type": "code",
   "execution_count": 29,
   "metadata": {
    "scrolled": true
   },
   "outputs": [
    {
     "data": {
      "text/plain": [
       "<matplotlib.axes._subplots.AxesSubplot at 0x13c746128>"
      ]
     },
     "execution_count": 29,
     "metadata": {},
     "output_type": "execute_result"
    },
    {
     "data": {
      "image/png": "[encoded data removed]",
      "text/plain": [
       "<matplotlib.figure.Figure at 0x13b9f1860>"
      ]
     },
     "metadata": {},
     "output_type": "display_data"
    }
   ],
   "source": [
    "train_result[['acc', 'val_acc']].plot()"
   ]
  },
  {
   "cell_type": "code",
   "execution_count": 30,
   "metadata": {},
   "outputs": [
    {
     "data": {
      "text/plain": [
       "<matplotlib.axes._subplots.AxesSubplot at 0x13c314080>"
      ]
     },
     "execution_count": 30,
     "metadata": {},
     "output_type": "execute_result"
    },
    {
     "data": {
      "image/png": "[encoded data removed]",
      "text/plain": [
       "<matplotlib.figure.Figure at 0x13c329828>"
      ]
     },
     "metadata": {},
     "output_type": "display_data"
    }
   ],
   "source": [
    "train_result[['loss', 'val_loss']].plot()"
   ]
  },
  {
   "cell_type": "markdown",
   "metadata": {},
   "source": [
    "평가"
   ]
  },
  {
   "cell_type": "code",
   "execution_count": 31,
   "metadata": {},
   "outputs": [
    {
     "name": "stdout",
     "output_type": "stream",
     "text": [
      "1418/1418 [==============================] - 0s     \n",
      "Loss: 0.05, accuracy: 0.987\n"
     ]
    }
   ],
   "source": [
    "score = model.evaluate(X_test, y_test)\n",
    "print(\"Loss: {:.2f}, accuracy: {:.3f}\".format(*score))"
   ]
  },
  {
   "cell_type": "code",
   "execution_count": null,
   "metadata": {
    "collapsed": true
   },
   "outputs": [],
   "source": []
  }
 ],
 "metadata": {
  "kernelspec": {
   "display_name": "Python 3",
   "language": "python",
   "name": "python3"
  },
  "language_info": {
   "codemirror_mode": {
    "name": "ipython",
    "version": 3
   },
   "file_extension": ".py",
   "mimetype": "text/x-python",
   "name": "python",
   "nbconvert_exporter": "python",
   "pygments_lexer": "ipython3",
   "version": "3.6.1"
  }
 },
 "nbformat": 4,
 "nbformat_minor": 2
}
